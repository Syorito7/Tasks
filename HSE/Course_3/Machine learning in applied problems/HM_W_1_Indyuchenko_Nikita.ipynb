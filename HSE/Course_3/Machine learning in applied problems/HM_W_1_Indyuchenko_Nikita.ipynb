{
  "nbformat": 4,
  "nbformat_minor": 0,
  "metadata": {
    "colab": {
      "provenance": []
    },
    "kernelspec": {
      "name": "python3",
      "display_name": "Python 3"
    },
    "language_info": {
      "name": "python"
    }
  },
  "cells": [
    {
      "cell_type": "markdown",
      "source": [
        "**Необходимые библиотеки**\n"
      ],
      "metadata": {
        "id": "-MRz_OQlDNvd"
      }
    },
    {
      "cell_type": "code",
      "source": [
        "import numpy as np\n",
        "import pandas as pd\n",
        "import matplotlib.pyplot as plt\n",
        "from sklearn.model_selection import train_test_split\n",
        "from collections import defaultdict\n",
        "from math import log\n",
        "from sklearn.metrics import accuracy_score"
      ],
      "metadata": {
        "id": "OlPkiD3eDOr6"
      },
      "execution_count": null,
      "outputs": []
    },
    {
      "cell_type": "markdown",
      "source": [
        "**Функции с семинаров**"
      ],
      "metadata": {
        "id": "YdkAqOXPGGRi"
      }
    },
    {
      "cell_type": "code",
      "source": [
        "\n",
        "\n",
        "def classify(classifier, features):\n",
        "    classes_probs, features_probs = classifier\n",
        "    epsilon = 10e-12\n",
        "    return min(classes_probs.keys(),  # calculate argmin(-log(P(C|O))) -> argmax(P(C|O))\n",
        "        key = lambda cl: -log(classes_probs[cl]) + \\\n",
        "            sum(-log(features_probs[cl, feature] + epsilon) for feature in features))\n",
        "\n",
        "\n",
        "# возвращение последнего элемента (буквы для имени)\n",
        "def get_features(name): return (name[-1]) # get last letter from name\n",
        "\n",
        "\n",
        "\n",
        "\n",
        "def train_last_letter(data_train):\n",
        "    classes, freq = defaultdict(lambda:0), defaultdict(lambda:0)\n",
        "    for feats, label in data_train:\n",
        "        classes[label] += 1                 # count classes frequencies\n",
        "        for feat in feats:\n",
        "            freq[label, feat] += 1          # count features frequencies\n",
        "\n",
        "    for label, feat in freq:                # normalize features frequencies\n",
        "        freq[label, feat] /= classes[label]\n",
        "    for c in classes:                       # normalize classes frequencies\n",
        "        classes[c] /= len(data_train)\n",
        "    print(classes, freq)\n",
        "    return classes, freq"
      ],
      "metadata": {
        "id": "yVsRuR4aGLNP"
      },
      "execution_count": null,
      "outputs": []
    },
    {
      "cell_type": "markdown",
      "source": [
        "**Задание 1: Байесовская классификация**"
      ],
      "metadata": {
        "id": "ZwbdAJwwgjB7"
      }
    },
    {
      "cell_type": "markdown",
      "source": [
        "*Пункт 1. Открыть файл names.csv*"
      ],
      "metadata": {
        "id": "hE7YOGKGHqRF"
      }
    },
    {
      "cell_type": "code",
      "execution_count": null,
      "metadata": {
        "id": "Dt9zW3GUgWcd"
      },
      "outputs": [],
      "source": [
        "data = pd.read_csv(\"names.csv\")"
      ]
    },
    {
      "cell_type": "code",
      "source": [
        "data.head(5)"
      ],
      "metadata": {
        "colab": {
          "base_uri": "https://localhost:8080/",
          "height": 206
        },
        "id": "wLMatW-uhtFl",
        "outputId": "45432831-1d5b-4d11-81cb-3611793bff9c"
      },
      "execution_count": null,
      "outputs": [
        {
          "output_type": "execute_result",
          "data": {
            "text/plain": [
              "   year     name   percent  sex\n",
              "0  1880     John  0.081541  boy\n",
              "1  1880  William  0.080511  boy\n",
              "2  1880    James  0.050057  boy\n",
              "3  1880  Charles  0.045167  boy\n",
              "4  1880   George  0.043292  boy"
            ],
            "text/html": [
              "\n",
              "  <div id=\"df-90c78b83-2d25-4613-9dd2-21703db1c71f\" class=\"colab-df-container\">\n",
              "    <div>\n",
              "<style scoped>\n",
              "    .dataframe tbody tr th:only-of-type {\n",
              "        vertical-align: middle;\n",
              "    }\n",
              "\n",
              "    .dataframe tbody tr th {\n",
              "        vertical-align: top;\n",
              "    }\n",
              "\n",
              "    .dataframe thead th {\n",
              "        text-align: right;\n",
              "    }\n",
              "</style>\n",
              "<table border=\"1\" class=\"dataframe\">\n",
              "  <thead>\n",
              "    <tr style=\"text-align: right;\">\n",
              "      <th></th>\n",
              "      <th>year</th>\n",
              "      <th>name</th>\n",
              "      <th>percent</th>\n",
              "      <th>sex</th>\n",
              "    </tr>\n",
              "  </thead>\n",
              "  <tbody>\n",
              "    <tr>\n",
              "      <th>0</th>\n",
              "      <td>1880</td>\n",
              "      <td>John</td>\n",
              "      <td>0.081541</td>\n",
              "      <td>boy</td>\n",
              "    </tr>\n",
              "    <tr>\n",
              "      <th>1</th>\n",
              "      <td>1880</td>\n",
              "      <td>William</td>\n",
              "      <td>0.080511</td>\n",
              "      <td>boy</td>\n",
              "    </tr>\n",
              "    <tr>\n",
              "      <th>2</th>\n",
              "      <td>1880</td>\n",
              "      <td>James</td>\n",
              "      <td>0.050057</td>\n",
              "      <td>boy</td>\n",
              "    </tr>\n",
              "    <tr>\n",
              "      <th>3</th>\n",
              "      <td>1880</td>\n",
              "      <td>Charles</td>\n",
              "      <td>0.045167</td>\n",
              "      <td>boy</td>\n",
              "    </tr>\n",
              "    <tr>\n",
              "      <th>4</th>\n",
              "      <td>1880</td>\n",
              "      <td>George</td>\n",
              "      <td>0.043292</td>\n",
              "      <td>boy</td>\n",
              "    </tr>\n",
              "  </tbody>\n",
              "</table>\n",
              "</div>\n",
              "    <div class=\"colab-df-buttons\">\n",
              "\n",
              "  <div class=\"colab-df-container\">\n",
              "    <button class=\"colab-df-convert\" onclick=\"convertToInteractive('df-90c78b83-2d25-4613-9dd2-21703db1c71f')\"\n",
              "            title=\"Convert this dataframe to an interactive table.\"\n",
              "            style=\"display:none;\">\n",
              "\n",
              "  <svg xmlns=\"http://www.w3.org/2000/svg\" height=\"24px\" viewBox=\"0 -960 960 960\">\n",
              "    <path d=\"M120-120v-720h720v720H120Zm60-500h600v-160H180v160Zm220 220h160v-160H400v160Zm0 220h160v-160H400v160ZM180-400h160v-160H180v160Zm440 0h160v-160H620v160ZM180-180h160v-160H180v160Zm440 0h160v-160H620v160Z\"/>\n",
              "  </svg>\n",
              "    </button>\n",
              "\n",
              "  <style>\n",
              "    .colab-df-container {\n",
              "      display:flex;\n",
              "      gap: 12px;\n",
              "    }\n",
              "\n",
              "    .colab-df-convert {\n",
              "      background-color: #E8F0FE;\n",
              "      border: none;\n",
              "      border-radius: 50%;\n",
              "      cursor: pointer;\n",
              "      display: none;\n",
              "      fill: #1967D2;\n",
              "      height: 32px;\n",
              "      padding: 0 0 0 0;\n",
              "      width: 32px;\n",
              "    }\n",
              "\n",
              "    .colab-df-convert:hover {\n",
              "      background-color: #E2EBFA;\n",
              "      box-shadow: 0px 1px 2px rgba(60, 64, 67, 0.3), 0px 1px 3px 1px rgba(60, 64, 67, 0.15);\n",
              "      fill: #174EA6;\n",
              "    }\n",
              "\n",
              "    .colab-df-buttons div {\n",
              "      margin-bottom: 4px;\n",
              "    }\n",
              "\n",
              "    [theme=dark] .colab-df-convert {\n",
              "      background-color: #3B4455;\n",
              "      fill: #D2E3FC;\n",
              "    }\n",
              "\n",
              "    [theme=dark] .colab-df-convert:hover {\n",
              "      background-color: #434B5C;\n",
              "      box-shadow: 0px 1px 3px 1px rgba(0, 0, 0, 0.15);\n",
              "      filter: drop-shadow(0px 1px 2px rgba(0, 0, 0, 0.3));\n",
              "      fill: #FFFFFF;\n",
              "    }\n",
              "  </style>\n",
              "\n",
              "    <script>\n",
              "      const buttonEl =\n",
              "        document.querySelector('#df-90c78b83-2d25-4613-9dd2-21703db1c71f button.colab-df-convert');\n",
              "      buttonEl.style.display =\n",
              "        google.colab.kernel.accessAllowed ? 'block' : 'none';\n",
              "\n",
              "      async function convertToInteractive(key) {\n",
              "        const element = document.querySelector('#df-90c78b83-2d25-4613-9dd2-21703db1c71f');\n",
              "        const dataTable =\n",
              "          await google.colab.kernel.invokeFunction('convertToInteractive',\n",
              "                                                    [key], {});\n",
              "        if (!dataTable) return;\n",
              "\n",
              "        const docLinkHtml = 'Like what you see? Visit the ' +\n",
              "          '<a target=\"_blank\" href=https://colab.research.google.com/notebooks/data_table.ipynb>data table notebook</a>'\n",
              "          + ' to learn more about interactive tables.';\n",
              "        element.innerHTML = '';\n",
              "        dataTable['output_type'] = 'display_data';\n",
              "        await google.colab.output.renderOutput(dataTable, element);\n",
              "        const docLink = document.createElement('div');\n",
              "        docLink.innerHTML = docLinkHtml;\n",
              "        element.appendChild(docLink);\n",
              "      }\n",
              "    </script>\n",
              "  </div>\n",
              "\n",
              "\n",
              "<div id=\"df-4f2b5643-11e4-4a9a-a381-bae84c3f885e\">\n",
              "  <button class=\"colab-df-quickchart\" onclick=\"quickchart('df-4f2b5643-11e4-4a9a-a381-bae84c3f885e')\"\n",
              "            title=\"Suggest charts\"\n",
              "            style=\"display:none;\">\n",
              "\n",
              "<svg xmlns=\"http://www.w3.org/2000/svg\" height=\"24px\"viewBox=\"0 0 24 24\"\n",
              "     width=\"24px\">\n",
              "    <g>\n",
              "        <path d=\"M19 3H5c-1.1 0-2 .9-2 2v14c0 1.1.9 2 2 2h14c1.1 0 2-.9 2-2V5c0-1.1-.9-2-2-2zM9 17H7v-7h2v7zm4 0h-2V7h2v10zm4 0h-2v-4h2v4z\"/>\n",
              "    </g>\n",
              "</svg>\n",
              "  </button>\n",
              "\n",
              "<style>\n",
              "  .colab-df-quickchart {\n",
              "      --bg-color: #E8F0FE;\n",
              "      --fill-color: #1967D2;\n",
              "      --hover-bg-color: #E2EBFA;\n",
              "      --hover-fill-color: #174EA6;\n",
              "      --disabled-fill-color: #AAA;\n",
              "      --disabled-bg-color: #DDD;\n",
              "  }\n",
              "\n",
              "  [theme=dark] .colab-df-quickchart {\n",
              "      --bg-color: #3B4455;\n",
              "      --fill-color: #D2E3FC;\n",
              "      --hover-bg-color: #434B5C;\n",
              "      --hover-fill-color: #FFFFFF;\n",
              "      --disabled-bg-color: #3B4455;\n",
              "      --disabled-fill-color: #666;\n",
              "  }\n",
              "\n",
              "  .colab-df-quickchart {\n",
              "    background-color: var(--bg-color);\n",
              "    border: none;\n",
              "    border-radius: 50%;\n",
              "    cursor: pointer;\n",
              "    display: none;\n",
              "    fill: var(--fill-color);\n",
              "    height: 32px;\n",
              "    padding: 0;\n",
              "    width: 32px;\n",
              "  }\n",
              "\n",
              "  .colab-df-quickchart:hover {\n",
              "    background-color: var(--hover-bg-color);\n",
              "    box-shadow: 0 1px 2px rgba(60, 64, 67, 0.3), 0 1px 3px 1px rgba(60, 64, 67, 0.15);\n",
              "    fill: var(--button-hover-fill-color);\n",
              "  }\n",
              "\n",
              "  .colab-df-quickchart-complete:disabled,\n",
              "  .colab-df-quickchart-complete:disabled:hover {\n",
              "    background-color: var(--disabled-bg-color);\n",
              "    fill: var(--disabled-fill-color);\n",
              "    box-shadow: none;\n",
              "  }\n",
              "\n",
              "  .colab-df-spinner {\n",
              "    border: 2px solid var(--fill-color);\n",
              "    border-color: transparent;\n",
              "    border-bottom-color: var(--fill-color);\n",
              "    animation:\n",
              "      spin 1s steps(1) infinite;\n",
              "  }\n",
              "\n",
              "  @keyframes spin {\n",
              "    0% {\n",
              "      border-color: transparent;\n",
              "      border-bottom-color: var(--fill-color);\n",
              "      border-left-color: var(--fill-color);\n",
              "    }\n",
              "    20% {\n",
              "      border-color: transparent;\n",
              "      border-left-color: var(--fill-color);\n",
              "      border-top-color: var(--fill-color);\n",
              "    }\n",
              "    30% {\n",
              "      border-color: transparent;\n",
              "      border-left-color: var(--fill-color);\n",
              "      border-top-color: var(--fill-color);\n",
              "      border-right-color: var(--fill-color);\n",
              "    }\n",
              "    40% {\n",
              "      border-color: transparent;\n",
              "      border-right-color: var(--fill-color);\n",
              "      border-top-color: var(--fill-color);\n",
              "    }\n",
              "    60% {\n",
              "      border-color: transparent;\n",
              "      border-right-color: var(--fill-color);\n",
              "    }\n",
              "    80% {\n",
              "      border-color: transparent;\n",
              "      border-right-color: var(--fill-color);\n",
              "      border-bottom-color: var(--fill-color);\n",
              "    }\n",
              "    90% {\n",
              "      border-color: transparent;\n",
              "      border-bottom-color: var(--fill-color);\n",
              "    }\n",
              "  }\n",
              "</style>\n",
              "\n",
              "  <script>\n",
              "    async function quickchart(key) {\n",
              "      const quickchartButtonEl =\n",
              "        document.querySelector('#' + key + ' button');\n",
              "      quickchartButtonEl.disabled = true;  // To prevent multiple clicks.\n",
              "      quickchartButtonEl.classList.add('colab-df-spinner');\n",
              "      try {\n",
              "        const charts = await google.colab.kernel.invokeFunction(\n",
              "            'suggestCharts', [key], {});\n",
              "      } catch (error) {\n",
              "        console.error('Error during call to suggestCharts:', error);\n",
              "      }\n",
              "      quickchartButtonEl.classList.remove('colab-df-spinner');\n",
              "      quickchartButtonEl.classList.add('colab-df-quickchart-complete');\n",
              "    }\n",
              "    (() => {\n",
              "      let quickchartButtonEl =\n",
              "        document.querySelector('#df-4f2b5643-11e4-4a9a-a381-bae84c3f885e button');\n",
              "      quickchartButtonEl.style.display =\n",
              "        google.colab.kernel.accessAllowed ? 'block' : 'none';\n",
              "    })();\n",
              "  </script>\n",
              "</div>\n",
              "    </div>\n",
              "  </div>\n"
            ],
            "application/vnd.google.colaboratory.intrinsic+json": {
              "type": "dataframe",
              "variable_name": "data"
            }
          },
          "metadata": {},
          "execution_count": 6
        }
      ]
    },
    {
      "cell_type": "code",
      "source": [
        "data.shape\n",
        "# 258000 строк и 4 столбца"
      ],
      "metadata": {
        "colab": {
          "base_uri": "https://localhost:8080/"
        },
        "id": "5Mmrq6LsnYtI",
        "outputId": "5bafad62-e6c8-4121-9991-29ba3a70ca34"
      },
      "execution_count": null,
      "outputs": [
        {
          "output_type": "execute_result",
          "data": {
            "text/plain": [
              "(258000, 4)"
            ]
          },
          "metadata": {},
          "execution_count": 7
        }
      ]
    },
    {
      "cell_type": "markdown",
      "source": [
        "*Пункт 2 - разделить выборку на обуч. и тест. (70% к 30%). Также уберём ненужные столбцы (год, процент)*"
      ],
      "metadata": {
        "id": "GYUgixW5H57f"
      }
    },
    {
      "cell_type": "code",
      "source": [
        "data.columns # шапка"
      ],
      "metadata": {
        "colab": {
          "base_uri": "https://localhost:8080/"
        },
        "id": "kBMrcdSjIP2f",
        "outputId": "780fed45-def2-4624-e858-1e42382c3bf9"
      },
      "execution_count": null,
      "outputs": [
        {
          "output_type": "execute_result",
          "data": {
            "text/plain": [
              "Index(['year', 'name', 'percent', 'sex'], dtype='object')"
            ]
          },
          "metadata": {},
          "execution_count": 8
        }
      ]
    },
    {
      "cell_type": "code",
      "source": [
        "data = data[['name','sex']]\n",
        "data_train, data_test = train_test_split(data,test_size=0.3,random_state=40)\n",
        "data_train"
      ],
      "metadata": {
        "id": "YMPJPlrtiMzC",
        "colab": {
          "base_uri": "https://localhost:8080/",
          "height": 424
        },
        "outputId": "234b73d4-e153-4d0d-d749-2bbf463c0260"
      },
      "execution_count": null,
      "outputs": [
        {
          "output_type": "execute_result",
          "data": {
            "text/plain": [
              "             name   sex\n",
              "11413         Dee   boy\n",
              "223437  Bridgette  girl\n",
              "245165     Alison  girl\n",
              "207492    Ladonna  girl\n",
              "18142      Calvin   boy\n",
              "...           ...   ...\n",
              "93176       Edwin   boy\n",
              "211109       Rita  girl\n",
              "30727     Winfred   boy\n",
              "112859     Tayler   boy\n",
              "142662     Bethel  girl\n",
              "\n",
              "[180600 rows x 2 columns]"
            ],
            "text/html": [
              "\n",
              "  <div id=\"df-4cd02d14-803b-4748-a6f0-6672577af968\" class=\"colab-df-container\">\n",
              "    <div>\n",
              "<style scoped>\n",
              "    .dataframe tbody tr th:only-of-type {\n",
              "        vertical-align: middle;\n",
              "    }\n",
              "\n",
              "    .dataframe tbody tr th {\n",
              "        vertical-align: top;\n",
              "    }\n",
              "\n",
              "    .dataframe thead th {\n",
              "        text-align: right;\n",
              "    }\n",
              "</style>\n",
              "<table border=\"1\" class=\"dataframe\">\n",
              "  <thead>\n",
              "    <tr style=\"text-align: right;\">\n",
              "      <th></th>\n",
              "      <th>name</th>\n",
              "      <th>sex</th>\n",
              "    </tr>\n",
              "  </thead>\n",
              "  <tbody>\n",
              "    <tr>\n",
              "      <th>11413</th>\n",
              "      <td>Dee</td>\n",
              "      <td>boy</td>\n",
              "    </tr>\n",
              "    <tr>\n",
              "      <th>223437</th>\n",
              "      <td>Bridgette</td>\n",
              "      <td>girl</td>\n",
              "    </tr>\n",
              "    <tr>\n",
              "      <th>245165</th>\n",
              "      <td>Alison</td>\n",
              "      <td>girl</td>\n",
              "    </tr>\n",
              "    <tr>\n",
              "      <th>207492</th>\n",
              "      <td>Ladonna</td>\n",
              "      <td>girl</td>\n",
              "    </tr>\n",
              "    <tr>\n",
              "      <th>18142</th>\n",
              "      <td>Calvin</td>\n",
              "      <td>boy</td>\n",
              "    </tr>\n",
              "    <tr>\n",
              "      <th>...</th>\n",
              "      <td>...</td>\n",
              "      <td>...</td>\n",
              "    </tr>\n",
              "    <tr>\n",
              "      <th>93176</th>\n",
              "      <td>Edwin</td>\n",
              "      <td>boy</td>\n",
              "    </tr>\n",
              "    <tr>\n",
              "      <th>211109</th>\n",
              "      <td>Rita</td>\n",
              "      <td>girl</td>\n",
              "    </tr>\n",
              "    <tr>\n",
              "      <th>30727</th>\n",
              "      <td>Winfred</td>\n",
              "      <td>boy</td>\n",
              "    </tr>\n",
              "    <tr>\n",
              "      <th>112859</th>\n",
              "      <td>Tayler</td>\n",
              "      <td>boy</td>\n",
              "    </tr>\n",
              "    <tr>\n",
              "      <th>142662</th>\n",
              "      <td>Bethel</td>\n",
              "      <td>girl</td>\n",
              "    </tr>\n",
              "  </tbody>\n",
              "</table>\n",
              "<p>180600 rows × 2 columns</p>\n",
              "</div>\n",
              "    <div class=\"colab-df-buttons\">\n",
              "\n",
              "  <div class=\"colab-df-container\">\n",
              "    <button class=\"colab-df-convert\" onclick=\"convertToInteractive('df-4cd02d14-803b-4748-a6f0-6672577af968')\"\n",
              "            title=\"Convert this dataframe to an interactive table.\"\n",
              "            style=\"display:none;\">\n",
              "\n",
              "  <svg xmlns=\"http://www.w3.org/2000/svg\" height=\"24px\" viewBox=\"0 -960 960 960\">\n",
              "    <path d=\"M120-120v-720h720v720H120Zm60-500h600v-160H180v160Zm220 220h160v-160H400v160Zm0 220h160v-160H400v160ZM180-400h160v-160H180v160Zm440 0h160v-160H620v160ZM180-180h160v-160H180v160Zm440 0h160v-160H620v160Z\"/>\n",
              "  </svg>\n",
              "    </button>\n",
              "\n",
              "  <style>\n",
              "    .colab-df-container {\n",
              "      display:flex;\n",
              "      gap: 12px;\n",
              "    }\n",
              "\n",
              "    .colab-df-convert {\n",
              "      background-color: #E8F0FE;\n",
              "      border: none;\n",
              "      border-radius: 50%;\n",
              "      cursor: pointer;\n",
              "      display: none;\n",
              "      fill: #1967D2;\n",
              "      height: 32px;\n",
              "      padding: 0 0 0 0;\n",
              "      width: 32px;\n",
              "    }\n",
              "\n",
              "    .colab-df-convert:hover {\n",
              "      background-color: #E2EBFA;\n",
              "      box-shadow: 0px 1px 2px rgba(60, 64, 67, 0.3), 0px 1px 3px 1px rgba(60, 64, 67, 0.15);\n",
              "      fill: #174EA6;\n",
              "    }\n",
              "\n",
              "    .colab-df-buttons div {\n",
              "      margin-bottom: 4px;\n",
              "    }\n",
              "\n",
              "    [theme=dark] .colab-df-convert {\n",
              "      background-color: #3B4455;\n",
              "      fill: #D2E3FC;\n",
              "    }\n",
              "\n",
              "    [theme=dark] .colab-df-convert:hover {\n",
              "      background-color: #434B5C;\n",
              "      box-shadow: 0px 1px 3px 1px rgba(0, 0, 0, 0.15);\n",
              "      filter: drop-shadow(0px 1px 2px rgba(0, 0, 0, 0.3));\n",
              "      fill: #FFFFFF;\n",
              "    }\n",
              "  </style>\n",
              "\n",
              "    <script>\n",
              "      const buttonEl =\n",
              "        document.querySelector('#df-4cd02d14-803b-4748-a6f0-6672577af968 button.colab-df-convert');\n",
              "      buttonEl.style.display =\n",
              "        google.colab.kernel.accessAllowed ? 'block' : 'none';\n",
              "\n",
              "      async function convertToInteractive(key) {\n",
              "        const element = document.querySelector('#df-4cd02d14-803b-4748-a6f0-6672577af968');\n",
              "        const dataTable =\n",
              "          await google.colab.kernel.invokeFunction('convertToInteractive',\n",
              "                                                    [key], {});\n",
              "        if (!dataTable) return;\n",
              "\n",
              "        const docLinkHtml = 'Like what you see? Visit the ' +\n",
              "          '<a target=\"_blank\" href=https://colab.research.google.com/notebooks/data_table.ipynb>data table notebook</a>'\n",
              "          + ' to learn more about interactive tables.';\n",
              "        element.innerHTML = '';\n",
              "        dataTable['output_type'] = 'display_data';\n",
              "        await google.colab.output.renderOutput(dataTable, element);\n",
              "        const docLink = document.createElement('div');\n",
              "        docLink.innerHTML = docLinkHtml;\n",
              "        element.appendChild(docLink);\n",
              "      }\n",
              "    </script>\n",
              "  </div>\n",
              "\n",
              "\n",
              "<div id=\"df-281fa6bc-5747-4de7-b78f-ccd6099ef813\">\n",
              "  <button class=\"colab-df-quickchart\" onclick=\"quickchart('df-281fa6bc-5747-4de7-b78f-ccd6099ef813')\"\n",
              "            title=\"Suggest charts\"\n",
              "            style=\"display:none;\">\n",
              "\n",
              "<svg xmlns=\"http://www.w3.org/2000/svg\" height=\"24px\"viewBox=\"0 0 24 24\"\n",
              "     width=\"24px\">\n",
              "    <g>\n",
              "        <path d=\"M19 3H5c-1.1 0-2 .9-2 2v14c0 1.1.9 2 2 2h14c1.1 0 2-.9 2-2V5c0-1.1-.9-2-2-2zM9 17H7v-7h2v7zm4 0h-2V7h2v10zm4 0h-2v-4h2v4z\"/>\n",
              "    </g>\n",
              "</svg>\n",
              "  </button>\n",
              "\n",
              "<style>\n",
              "  .colab-df-quickchart {\n",
              "      --bg-color: #E8F0FE;\n",
              "      --fill-color: #1967D2;\n",
              "      --hover-bg-color: #E2EBFA;\n",
              "      --hover-fill-color: #174EA6;\n",
              "      --disabled-fill-color: #AAA;\n",
              "      --disabled-bg-color: #DDD;\n",
              "  }\n",
              "\n",
              "  [theme=dark] .colab-df-quickchart {\n",
              "      --bg-color: #3B4455;\n",
              "      --fill-color: #D2E3FC;\n",
              "      --hover-bg-color: #434B5C;\n",
              "      --hover-fill-color: #FFFFFF;\n",
              "      --disabled-bg-color: #3B4455;\n",
              "      --disabled-fill-color: #666;\n",
              "  }\n",
              "\n",
              "  .colab-df-quickchart {\n",
              "    background-color: var(--bg-color);\n",
              "    border: none;\n",
              "    border-radius: 50%;\n",
              "    cursor: pointer;\n",
              "    display: none;\n",
              "    fill: var(--fill-color);\n",
              "    height: 32px;\n",
              "    padding: 0;\n",
              "    width: 32px;\n",
              "  }\n",
              "\n",
              "  .colab-df-quickchart:hover {\n",
              "    background-color: var(--hover-bg-color);\n",
              "    box-shadow: 0 1px 2px rgba(60, 64, 67, 0.3), 0 1px 3px 1px rgba(60, 64, 67, 0.15);\n",
              "    fill: var(--button-hover-fill-color);\n",
              "  }\n",
              "\n",
              "  .colab-df-quickchart-complete:disabled,\n",
              "  .colab-df-quickchart-complete:disabled:hover {\n",
              "    background-color: var(--disabled-bg-color);\n",
              "    fill: var(--disabled-fill-color);\n",
              "    box-shadow: none;\n",
              "  }\n",
              "\n",
              "  .colab-df-spinner {\n",
              "    border: 2px solid var(--fill-color);\n",
              "    border-color: transparent;\n",
              "    border-bottom-color: var(--fill-color);\n",
              "    animation:\n",
              "      spin 1s steps(1) infinite;\n",
              "  }\n",
              "\n",
              "  @keyframes spin {\n",
              "    0% {\n",
              "      border-color: transparent;\n",
              "      border-bottom-color: var(--fill-color);\n",
              "      border-left-color: var(--fill-color);\n",
              "    }\n",
              "    20% {\n",
              "      border-color: transparent;\n",
              "      border-left-color: var(--fill-color);\n",
              "      border-top-color: var(--fill-color);\n",
              "    }\n",
              "    30% {\n",
              "      border-color: transparent;\n",
              "      border-left-color: var(--fill-color);\n",
              "      border-top-color: var(--fill-color);\n",
              "      border-right-color: var(--fill-color);\n",
              "    }\n",
              "    40% {\n",
              "      border-color: transparent;\n",
              "      border-right-color: var(--fill-color);\n",
              "      border-top-color: var(--fill-color);\n",
              "    }\n",
              "    60% {\n",
              "      border-color: transparent;\n",
              "      border-right-color: var(--fill-color);\n",
              "    }\n",
              "    80% {\n",
              "      border-color: transparent;\n",
              "      border-right-color: var(--fill-color);\n",
              "      border-bottom-color: var(--fill-color);\n",
              "    }\n",
              "    90% {\n",
              "      border-color: transparent;\n",
              "      border-bottom-color: var(--fill-color);\n",
              "    }\n",
              "  }\n",
              "</style>\n",
              "\n",
              "  <script>\n",
              "    async function quickchart(key) {\n",
              "      const quickchartButtonEl =\n",
              "        document.querySelector('#' + key + ' button');\n",
              "      quickchartButtonEl.disabled = true;  // To prevent multiple clicks.\n",
              "      quickchartButtonEl.classList.add('colab-df-spinner');\n",
              "      try {\n",
              "        const charts = await google.colab.kernel.invokeFunction(\n",
              "            'suggestCharts', [key], {});\n",
              "      } catch (error) {\n",
              "        console.error('Error during call to suggestCharts:', error);\n",
              "      }\n",
              "      quickchartButtonEl.classList.remove('colab-df-spinner');\n",
              "      quickchartButtonEl.classList.add('colab-df-quickchart-complete');\n",
              "    }\n",
              "    (() => {\n",
              "      let quickchartButtonEl =\n",
              "        document.querySelector('#df-281fa6bc-5747-4de7-b78f-ccd6099ef813 button');\n",
              "      quickchartButtonEl.style.display =\n",
              "        google.colab.kernel.accessAllowed ? 'block' : 'none';\n",
              "    })();\n",
              "  </script>\n",
              "</div>\n",
              "    </div>\n",
              "  </div>\n"
            ],
            "application/vnd.google.colaboratory.intrinsic+json": {
              "type": "dataframe",
              "variable_name": "data_train"
            }
          },
          "metadata": {},
          "execution_count": 9
        }
      ]
    },
    {
      "cell_type": "markdown",
      "source": [
        "*В каждом имени оставим 1 букву*"
      ],
      "metadata": {
        "id": "--OGtPaLKZiQ"
      }
    },
    {
      "cell_type": "code",
      "source": [
        "# обращаемся к столбцу 'name' и преобразуем каждое имя в букву\n",
        "data_train['name'] = data_train['name'].apply(get_features)\n",
        "data_train"
      ],
      "metadata": {
        "colab": {
          "base_uri": "https://localhost:8080/",
          "height": 424
        },
        "id": "HX3CW1yTLHW7",
        "outputId": "85136091-2af8-46b0-bf5b-ca4d0fb74e70"
      },
      "execution_count": null,
      "outputs": [
        {
          "output_type": "execute_result",
          "data": {
            "text/plain": [
              "       name   sex\n",
              "11413     e   boy\n",
              "223437    e  girl\n",
              "245165    n  girl\n",
              "207492    a  girl\n",
              "18142     n   boy\n",
              "...     ...   ...\n",
              "93176     n   boy\n",
              "211109    a  girl\n",
              "30727     d   boy\n",
              "112859    r   boy\n",
              "142662    l  girl\n",
              "\n",
              "[180600 rows x 2 columns]"
            ],
            "text/html": [
              "\n",
              "  <div id=\"df-76a3b42c-ae32-45f5-89ff-629130a6d356\" class=\"colab-df-container\">\n",
              "    <div>\n",
              "<style scoped>\n",
              "    .dataframe tbody tr th:only-of-type {\n",
              "        vertical-align: middle;\n",
              "    }\n",
              "\n",
              "    .dataframe tbody tr th {\n",
              "        vertical-align: top;\n",
              "    }\n",
              "\n",
              "    .dataframe thead th {\n",
              "        text-align: right;\n",
              "    }\n",
              "</style>\n",
              "<table border=\"1\" class=\"dataframe\">\n",
              "  <thead>\n",
              "    <tr style=\"text-align: right;\">\n",
              "      <th></th>\n",
              "      <th>name</th>\n",
              "      <th>sex</th>\n",
              "    </tr>\n",
              "  </thead>\n",
              "  <tbody>\n",
              "    <tr>\n",
              "      <th>11413</th>\n",
              "      <td>e</td>\n",
              "      <td>boy</td>\n",
              "    </tr>\n",
              "    <tr>\n",
              "      <th>223437</th>\n",
              "      <td>e</td>\n",
              "      <td>girl</td>\n",
              "    </tr>\n",
              "    <tr>\n",
              "      <th>245165</th>\n",
              "      <td>n</td>\n",
              "      <td>girl</td>\n",
              "    </tr>\n",
              "    <tr>\n",
              "      <th>207492</th>\n",
              "      <td>a</td>\n",
              "      <td>girl</td>\n",
              "    </tr>\n",
              "    <tr>\n",
              "      <th>18142</th>\n",
              "      <td>n</td>\n",
              "      <td>boy</td>\n",
              "    </tr>\n",
              "    <tr>\n",
              "      <th>...</th>\n",
              "      <td>...</td>\n",
              "      <td>...</td>\n",
              "    </tr>\n",
              "    <tr>\n",
              "      <th>93176</th>\n",
              "      <td>n</td>\n",
              "      <td>boy</td>\n",
              "    </tr>\n",
              "    <tr>\n",
              "      <th>211109</th>\n",
              "      <td>a</td>\n",
              "      <td>girl</td>\n",
              "    </tr>\n",
              "    <tr>\n",
              "      <th>30727</th>\n",
              "      <td>d</td>\n",
              "      <td>boy</td>\n",
              "    </tr>\n",
              "    <tr>\n",
              "      <th>112859</th>\n",
              "      <td>r</td>\n",
              "      <td>boy</td>\n",
              "    </tr>\n",
              "    <tr>\n",
              "      <th>142662</th>\n",
              "      <td>l</td>\n",
              "      <td>girl</td>\n",
              "    </tr>\n",
              "  </tbody>\n",
              "</table>\n",
              "<p>180600 rows × 2 columns</p>\n",
              "</div>\n",
              "    <div class=\"colab-df-buttons\">\n",
              "\n",
              "  <div class=\"colab-df-container\">\n",
              "    <button class=\"colab-df-convert\" onclick=\"convertToInteractive('df-76a3b42c-ae32-45f5-89ff-629130a6d356')\"\n",
              "            title=\"Convert this dataframe to an interactive table.\"\n",
              "            style=\"display:none;\">\n",
              "\n",
              "  <svg xmlns=\"http://www.w3.org/2000/svg\" height=\"24px\" viewBox=\"0 -960 960 960\">\n",
              "    <path d=\"M120-120v-720h720v720H120Zm60-500h600v-160H180v160Zm220 220h160v-160H400v160Zm0 220h160v-160H400v160ZM180-400h160v-160H180v160Zm440 0h160v-160H620v160ZM180-180h160v-160H180v160Zm440 0h160v-160H620v160Z\"/>\n",
              "  </svg>\n",
              "    </button>\n",
              "\n",
              "  <style>\n",
              "    .colab-df-container {\n",
              "      display:flex;\n",
              "      gap: 12px;\n",
              "    }\n",
              "\n",
              "    .colab-df-convert {\n",
              "      background-color: #E8F0FE;\n",
              "      border: none;\n",
              "      border-radius: 50%;\n",
              "      cursor: pointer;\n",
              "      display: none;\n",
              "      fill: #1967D2;\n",
              "      height: 32px;\n",
              "      padding: 0 0 0 0;\n",
              "      width: 32px;\n",
              "    }\n",
              "\n",
              "    .colab-df-convert:hover {\n",
              "      background-color: #E2EBFA;\n",
              "      box-shadow: 0px 1px 2px rgba(60, 64, 67, 0.3), 0px 1px 3px 1px rgba(60, 64, 67, 0.15);\n",
              "      fill: #174EA6;\n",
              "    }\n",
              "\n",
              "    .colab-df-buttons div {\n",
              "      margin-bottom: 4px;\n",
              "    }\n",
              "\n",
              "    [theme=dark] .colab-df-convert {\n",
              "      background-color: #3B4455;\n",
              "      fill: #D2E3FC;\n",
              "    }\n",
              "\n",
              "    [theme=dark] .colab-df-convert:hover {\n",
              "      background-color: #434B5C;\n",
              "      box-shadow: 0px 1px 3px 1px rgba(0, 0, 0, 0.15);\n",
              "      filter: drop-shadow(0px 1px 2px rgba(0, 0, 0, 0.3));\n",
              "      fill: #FFFFFF;\n",
              "    }\n",
              "  </style>\n",
              "\n",
              "    <script>\n",
              "      const buttonEl =\n",
              "        document.querySelector('#df-76a3b42c-ae32-45f5-89ff-629130a6d356 button.colab-df-convert');\n",
              "      buttonEl.style.display =\n",
              "        google.colab.kernel.accessAllowed ? 'block' : 'none';\n",
              "\n",
              "      async function convertToInteractive(key) {\n",
              "        const element = document.querySelector('#df-76a3b42c-ae32-45f5-89ff-629130a6d356');\n",
              "        const dataTable =\n",
              "          await google.colab.kernel.invokeFunction('convertToInteractive',\n",
              "                                                    [key], {});\n",
              "        if (!dataTable) return;\n",
              "\n",
              "        const docLinkHtml = 'Like what you see? Visit the ' +\n",
              "          '<a target=\"_blank\" href=https://colab.research.google.com/notebooks/data_table.ipynb>data table notebook</a>'\n",
              "          + ' to learn more about interactive tables.';\n",
              "        element.innerHTML = '';\n",
              "        dataTable['output_type'] = 'display_data';\n",
              "        await google.colab.output.renderOutput(dataTable, element);\n",
              "        const docLink = document.createElement('div');\n",
              "        docLink.innerHTML = docLinkHtml;\n",
              "        element.appendChild(docLink);\n",
              "      }\n",
              "    </script>\n",
              "  </div>\n",
              "\n",
              "\n",
              "<div id=\"df-c09223d6-b435-4eb2-8c91-282af916fd07\">\n",
              "  <button class=\"colab-df-quickchart\" onclick=\"quickchart('df-c09223d6-b435-4eb2-8c91-282af916fd07')\"\n",
              "            title=\"Suggest charts\"\n",
              "            style=\"display:none;\">\n",
              "\n",
              "<svg xmlns=\"http://www.w3.org/2000/svg\" height=\"24px\"viewBox=\"0 0 24 24\"\n",
              "     width=\"24px\">\n",
              "    <g>\n",
              "        <path d=\"M19 3H5c-1.1 0-2 .9-2 2v14c0 1.1.9 2 2 2h14c1.1 0 2-.9 2-2V5c0-1.1-.9-2-2-2zM9 17H7v-7h2v7zm4 0h-2V7h2v10zm4 0h-2v-4h2v4z\"/>\n",
              "    </g>\n",
              "</svg>\n",
              "  </button>\n",
              "\n",
              "<style>\n",
              "  .colab-df-quickchart {\n",
              "      --bg-color: #E8F0FE;\n",
              "      --fill-color: #1967D2;\n",
              "      --hover-bg-color: #E2EBFA;\n",
              "      --hover-fill-color: #174EA6;\n",
              "      --disabled-fill-color: #AAA;\n",
              "      --disabled-bg-color: #DDD;\n",
              "  }\n",
              "\n",
              "  [theme=dark] .colab-df-quickchart {\n",
              "      --bg-color: #3B4455;\n",
              "      --fill-color: #D2E3FC;\n",
              "      --hover-bg-color: #434B5C;\n",
              "      --hover-fill-color: #FFFFFF;\n",
              "      --disabled-bg-color: #3B4455;\n",
              "      --disabled-fill-color: #666;\n",
              "  }\n",
              "\n",
              "  .colab-df-quickchart {\n",
              "    background-color: var(--bg-color);\n",
              "    border: none;\n",
              "    border-radius: 50%;\n",
              "    cursor: pointer;\n",
              "    display: none;\n",
              "    fill: var(--fill-color);\n",
              "    height: 32px;\n",
              "    padding: 0;\n",
              "    width: 32px;\n",
              "  }\n",
              "\n",
              "  .colab-df-quickchart:hover {\n",
              "    background-color: var(--hover-bg-color);\n",
              "    box-shadow: 0 1px 2px rgba(60, 64, 67, 0.3), 0 1px 3px 1px rgba(60, 64, 67, 0.15);\n",
              "    fill: var(--button-hover-fill-color);\n",
              "  }\n",
              "\n",
              "  .colab-df-quickchart-complete:disabled,\n",
              "  .colab-df-quickchart-complete:disabled:hover {\n",
              "    background-color: var(--disabled-bg-color);\n",
              "    fill: var(--disabled-fill-color);\n",
              "    box-shadow: none;\n",
              "  }\n",
              "\n",
              "  .colab-df-spinner {\n",
              "    border: 2px solid var(--fill-color);\n",
              "    border-color: transparent;\n",
              "    border-bottom-color: var(--fill-color);\n",
              "    animation:\n",
              "      spin 1s steps(1) infinite;\n",
              "  }\n",
              "\n",
              "  @keyframes spin {\n",
              "    0% {\n",
              "      border-color: transparent;\n",
              "      border-bottom-color: var(--fill-color);\n",
              "      border-left-color: var(--fill-color);\n",
              "    }\n",
              "    20% {\n",
              "      border-color: transparent;\n",
              "      border-left-color: var(--fill-color);\n",
              "      border-top-color: var(--fill-color);\n",
              "    }\n",
              "    30% {\n",
              "      border-color: transparent;\n",
              "      border-left-color: var(--fill-color);\n",
              "      border-top-color: var(--fill-color);\n",
              "      border-right-color: var(--fill-color);\n",
              "    }\n",
              "    40% {\n",
              "      border-color: transparent;\n",
              "      border-right-color: var(--fill-color);\n",
              "      border-top-color: var(--fill-color);\n",
              "    }\n",
              "    60% {\n",
              "      border-color: transparent;\n",
              "      border-right-color: var(--fill-color);\n",
              "    }\n",
              "    80% {\n",
              "      border-color: transparent;\n",
              "      border-right-color: var(--fill-color);\n",
              "      border-bottom-color: var(--fill-color);\n",
              "    }\n",
              "    90% {\n",
              "      border-color: transparent;\n",
              "      border-bottom-color: var(--fill-color);\n",
              "    }\n",
              "  }\n",
              "</style>\n",
              "\n",
              "  <script>\n",
              "    async function quickchart(key) {\n",
              "      const quickchartButtonEl =\n",
              "        document.querySelector('#' + key + ' button');\n",
              "      quickchartButtonEl.disabled = true;  // To prevent multiple clicks.\n",
              "      quickchartButtonEl.classList.add('colab-df-spinner');\n",
              "      try {\n",
              "        const charts = await google.colab.kernel.invokeFunction(\n",
              "            'suggestCharts', [key], {});\n",
              "      } catch (error) {\n",
              "        console.error('Error during call to suggestCharts:', error);\n",
              "      }\n",
              "      quickchartButtonEl.classList.remove('colab-df-spinner');\n",
              "      quickchartButtonEl.classList.add('colab-df-quickchart-complete');\n",
              "    }\n",
              "    (() => {\n",
              "      let quickchartButtonEl =\n",
              "        document.querySelector('#df-c09223d6-b435-4eb2-8c91-282af916fd07 button');\n",
              "      quickchartButtonEl.style.display =\n",
              "        google.colab.kernel.accessAllowed ? 'block' : 'none';\n",
              "    })();\n",
              "  </script>\n",
              "</div>\n",
              "    </div>\n",
              "  </div>\n"
            ],
            "application/vnd.google.colaboratory.intrinsic+json": {
              "type": "dataframe",
              "variable_name": "data_train"
            }
          },
          "metadata": {},
          "execution_count": 10
        }
      ]
    },
    {
      "cell_type": "markdown",
      "source": [
        "*Пункт 3 - обучить наивную байесовскую классификацию из файла Sem2.ipynb\n",
        "  на X_test. Затем с помощью метода classify() разменить имена по полу в\n",
        "  тестировочном наборе данных*"
      ],
      "metadata": {
        "id": "pB4GkHy3PNJN"
      }
    },
    {
      "cell_type": "code",
      "source": [
        "classifier = train_last_letter(data_train.values)"
      ],
      "metadata": {
        "colab": {
          "base_uri": "https://localhost:8080/"
        },
        "id": "_LQkj9qlv19V",
        "outputId": "b3153fbd-16f1-4f7c-db9c-3a8220387add"
      },
      "execution_count": null,
      "outputs": [
        {
          "output_type": "stream",
          "name": "stdout",
          "text": [
            "defaultdict(<function train_last_letter.<locals>.<lambda> at 0x79ff56c74430>, {'boy': 0.5002436323366556, 'girl': 0.4997563676633444}) defaultdict(<function train_last_letter.<locals>.<lambda> at 0x79ff8dc83d90>, {('boy', 'e'): 0.13785088107677324, ('girl', 'e'): 0.3021294983159014, ('girl', 'n'): 0.08090320865094841, ('girl', 'a'): 0.3831545825208296, ('boy', 'n'): 0.213694323917471, ('boy', 'p'): 0.003154609049853892, ('girl', 'l'): 0.035244194291792236, ('boy', 'd'): 0.07296555388293634, ('boy', 'l'): 0.08310457805720357, ('girl', 'y'): 0.07825518525084205, ('girl', 'i'): 0.02788734266973941, ('boy', 'o'): 0.06322500664128221, ('boy', 'g'): 0.005611883467634818, ('boy', 'y'): 0.11175064199061366, ('boy', 't'): 0.05249933587177898, ('boy', 'i'): 0.00560081466395112, ('girl', 'h'): 0.02477397624534657, ('girl', 's'): 0.022414022336465167, ('boy', 's'): 0.07889843265739839, ('boy', 'h'): 0.026841848932967326, ('girl', 'o'): 0.005129852862967559, ('boy', 'a'): 0.016160453378198884, ('girl', 'u'): 0.001717337351533416, ('boy', 'r'): 0.06102231470822633, ('boy', 'w'): 0.004538209510316125, ('boy', 'm'): 0.016525723899760914, ('boy', 'c'): 0.009242451075887718, ('boy', 'k'): 0.022015850526875054, ('boy', 'b'): 0.003641636411936598, ('girl', 'k'): 0.000875288069491225, ('girl', 'd'): 0.008021627371033504, ('girl', 'r'): 0.01210999822726467, ('boy', 'x'): 0.0044939342955813335, ('girl', 't'): 0.010913401879099451, ('boy', 'f'): 0.0034756043566811297, ('boy', 'u'): 0.0007748162578588506, ('girl', 'm'): 0.0029250132955149794, ('boy', 'z'): 0.002147347914637386, ('girl', 'z'): 0.001983247651125687, ('girl', 'x'): 0.00024375110795958163, ('boy', 'v'): 0.0005202337731337996, ('girl', 'w'): 0.0003545470661230278, ('girl', 'g'): 0.0005318205991845417, ('boy', 'j'): 0.00011068803683697867, ('girl', 'c'): 0.00027698989540861547, ('boy', 'q'): 0.0001328256442043744, ('girl', 'b'): 0.00013295514979613543, ('girl', 'v'): 2.215919163268924e-05})\n"
          ]
        }
      ]
    },
    {
      "cell_type": "code",
      "source": [
        "classifier"
      ],
      "metadata": {
        "colab": {
          "base_uri": "https://localhost:8080/"
        },
        "id": "oj-U1zZeOUhI",
        "outputId": "8f966641-3ea2-46d3-bc0c-79b878078efb"
      },
      "execution_count": null,
      "outputs": [
        {
          "output_type": "execute_result",
          "data": {
            "text/plain": [
              "(defaultdict(<function __main__.train_last_letter.<locals>.<lambda>()>,\n",
              "             {'boy': 0.5002436323366556, 'girl': 0.4997563676633444}),\n",
              " defaultdict(<function __main__.train_last_letter.<locals>.<lambda>()>,\n",
              "             {('boy', 'e'): 0.13785088107677324,\n",
              "              ('girl', 'e'): 0.3021294983159014,\n",
              "              ('girl', 'n'): 0.08090320865094841,\n",
              "              ('girl', 'a'): 0.3831545825208296,\n",
              "              ('boy', 'n'): 0.213694323917471,\n",
              "              ('boy', 'p'): 0.003154609049853892,\n",
              "              ('girl', 'l'): 0.035244194291792236,\n",
              "              ('boy', 'd'): 0.07296555388293634,\n",
              "              ('boy', 'l'): 0.08310457805720357,\n",
              "              ('girl', 'y'): 0.07825518525084205,\n",
              "              ('girl', 'i'): 0.02788734266973941,\n",
              "              ('boy', 'o'): 0.06322500664128221,\n",
              "              ('boy', 'g'): 0.005611883467634818,\n",
              "              ('boy', 'y'): 0.11175064199061366,\n",
              "              ('boy', 't'): 0.05249933587177898,\n",
              "              ('boy', 'i'): 0.00560081466395112,\n",
              "              ('girl', 'h'): 0.02477397624534657,\n",
              "              ('girl', 's'): 0.022414022336465167,\n",
              "              ('boy', 's'): 0.07889843265739839,\n",
              "              ('boy', 'h'): 0.026841848932967326,\n",
              "              ('girl', 'o'): 0.005129852862967559,\n",
              "              ('boy', 'a'): 0.016160453378198884,\n",
              "              ('girl', 'u'): 0.001717337351533416,\n",
              "              ('boy', 'r'): 0.06102231470822633,\n",
              "              ('boy', 'w'): 0.004538209510316125,\n",
              "              ('boy', 'm'): 0.016525723899760914,\n",
              "              ('boy', 'c'): 0.009242451075887718,\n",
              "              ('boy', 'k'): 0.022015850526875054,\n",
              "              ('boy', 'b'): 0.003641636411936598,\n",
              "              ('girl', 'k'): 0.000875288069491225,\n",
              "              ('girl', 'd'): 0.008021627371033504,\n",
              "              ('girl', 'r'): 0.01210999822726467,\n",
              "              ('boy', 'x'): 0.0044939342955813335,\n",
              "              ('girl', 't'): 0.010913401879099451,\n",
              "              ('boy', 'f'): 0.0034756043566811297,\n",
              "              ('boy', 'u'): 0.0007748162578588506,\n",
              "              ('girl', 'm'): 0.0029250132955149794,\n",
              "              ('boy', 'z'): 0.002147347914637386,\n",
              "              ('girl', 'z'): 0.001983247651125687,\n",
              "              ('girl', 'x'): 0.00024375110795958163,\n",
              "              ('boy', 'v'): 0.0005202337731337996,\n",
              "              ('girl', 'w'): 0.0003545470661230278,\n",
              "              ('girl', 'g'): 0.0005318205991845417,\n",
              "              ('boy', 'j'): 0.00011068803683697867,\n",
              "              ('girl', 'c'): 0.00027698989540861547,\n",
              "              ('boy', 'q'): 0.0001328256442043744,\n",
              "              ('girl', 'b'): 0.00013295514979613543,\n",
              "              ('girl', 'v'): 2.215919163268924e-05}))"
            ]
          },
          "metadata": {},
          "execution_count": 12
        }
      ]
    },
    {
      "cell_type": "markdown",
      "source": [
        "*Пункт 4. Посчитать среднюю долю правильных \"ответов\" классификатора.*"
      ],
      "metadata": {
        "id": "uDn5cz6bPcT2"
      }
    },
    {
      "cell_type": "code",
      "source": [
        "count_of_correct_answers = 0\n",
        "for name, label in data_test.values:\n",
        "  if (classify(classifier), get_features(name) == label):\n",
        "    count_of_correct_answers += 1\n",
        "\n",
        "print(f\"Доля правильных ответов классификатора: {count_of_correct_answers / data_test.shape[0]}\")"
      ],
      "metadata": {
        "id": "Rvk71uDlyMQj"
      },
      "execution_count": null,
      "outputs": []
    },
    {
      "cell_type": "markdown",
      "source": [
        "*Классификация другими способами (несколько букв или полное имя)*"
      ],
      "metadata": {
        "id": "bb95FrSEStcR"
      }
    },
    {
      "cell_type": "code",
      "source": [
        "# по первой и последней букве\n",
        "def get_features_two_letters(name: str) -> str:\n",
        "    return ''.join([name[0], name[-1]])"
      ],
      "metadata": {
        "id": "Fg2-b_SiS7CW"
      },
      "execution_count": null,
      "outputs": []
    },
    {
      "cell_type": "code",
      "source": [
        "# по первой и второй букве\n",
        "def get_features_two_letters(name: str) -> str:\n",
        "    return ''.join([name[0], name[1]])"
      ],
      "metadata": {
        "id": "7o1swyeGTE3b"
      },
      "execution_count": null,
      "outputs": []
    },
    {
      "cell_type": "code",
      "source": [
        "\n",
        "def train(data_train):\n",
        "    # общее кол-во букв\n",
        "    all_letters_in_class = defaultdict(lambda:0)\n",
        "    # вероятность класса (будет хранить отношение кол-во имён / на общее кол-во - длина)\n",
        "    names_in_class = defaultdict(lambda:0)\n",
        "    # вероятность бувы в данном классе\n",
        "    letters_in_class = defaultdict(lambda:0)\n",
        "\n",
        "\n",
        "    # идём по признакам и полу\n",
        "    for features, label in data_train:\n",
        "        names_in_class[label] += 1\n",
        "        for feature in features:\n",
        "            letters_in_class[label, feature] += 1\n",
        "        all_letters_in_class[label] += len(features)\n",
        "\n",
        "    for label, feature in letters_in_class:\n",
        "        letters_in_class[label, feature] /= all_letters_in_class[label]\n",
        "    for c in names_in_class:\n",
        "        names_in_class[c] /= len(data_train)\n",
        "\n",
        "    return names_in_class, letters_in_class"
      ],
      "metadata": {
        "id": "mZuISQr1TmYN"
      },
      "execution_count": null,
      "outputs": []
    },
    {
      "cell_type": "code",
      "source": [
        "data = pd.read_csv(\"names.csv\")\n",
        "\n",
        "data = data[['name', 'sex']]\n",
        "data_train, data_test = train_test_split(data, test_size=0.3, random_state=1)\n",
        "\n",
        "data_train['name'] = data_train['name'].apply(get_features_two_letters)\n",
        "\n",
        "classifier = train(data_train.values)\n",
        "\n",
        "right_answers_count = 0\n",
        "for name, label in data_test.values:\n",
        "    if (classify(classifier, get_features_two_letters(name)) == label):\n",
        "        right_answers_count += 1\n",
        "\n",
        "print(f\"Доля правильных ответов классификатора: {right_answers_count / data_test.shape[0]}\")"
      ],
      "metadata": {
        "id": "JcoL3XZRnVtT",
        "colab": {
          "base_uri": "https://localhost:8080/"
        },
        "outputId": "49400e58-a61d-4066-b819-05f35e37f14a"
      },
      "execution_count": null,
      "outputs": [
        {
          "output_type": "stream",
          "name": "stdout",
          "text": [
            "Доля правильных ответов классификатора: 0.581343669250646\n"
          ]
        }
      ]
    },
    {
      "cell_type": "markdown",
      "source": [
        "*Гауссовский классификатор*"
      ],
      "metadata": {
        "id": "GDmvHcNhoKPc"
      }
    },
    {
      "cell_type": "code",
      "source": [
        "data = pd.read_csv(\"names.csv\")\n",
        "X = data['name']\n",
        "y = data['sex']\n",
        "\n",
        "\n",
        "X_train, X_test, y_train, y_test = train_test_split(X, y, test_size=0.3, random_state=1)\n",
        "\n",
        "# Создание объекта\n",
        "vectoriser = TfidfVectorizer()\n",
        "\n",
        "# Преобразование текстового корпуса в матрицу TF-IDF признаков\n",
        "X_train_vec = vectoriser.fit_transform(X_train)\n",
        "\n",
        "# объект модели\n",
        "model = GaussianNB()\n",
        "\n",
        "# размер шага в выборке для обучения???\n",
        "batch_size = 1000\n",
        "for i in range(0, len(X_train), batch_size):\n",
        "    # размер данных\n",
        "    X_batch = X_train_vec[i:i + batch_size]\n",
        "    y_batch = y_train[i:i + batch_size]\n",
        "    # обучение модели\n",
        "    model.partial_fit(X_batch.toarray(), y_batch, classes=np.unique(y))"
      ],
      "metadata": {
        "id": "GTy5F8fqoN_m"
      },
      "execution_count": null,
      "outputs": []
    },
    {
      "cell_type": "code",
      "source": [
        "count_of_correct_answers = 0\n",
        "for i in range(0, X_test.shape[0], batch_size):\n",
        "    X_batch_test = X_test_vec[i:i + batch_size].toarray()\n",
        "    y_batch_test = y_test[i:i + batch_size]\n",
        "    batch_predictions = model.predict(X_batch_test)\n",
        "    count_of_correct_answers += np.sum(batch_predictions == y_batch_test)\n",
        "\n",
        "print(f\"Доля правильных ответов классификатора: {count_of_correct_answers / X_test.shape[0]}\")"
      ],
      "metadata": {
        "id": "qp0ACpeBrCvw"
      },
      "execution_count": null,
      "outputs": []
    },
    {
      "cell_type": "markdown",
      "source": [
        "**Задание 2: Классификация ирисов**"
      ],
      "metadata": {
        "id": "OsxL2tTmrVa3"
      }
    },
    {
      "cell_type": "markdown",
      "source": [
        "*Необходимые библиотеки*"
      ],
      "metadata": {
        "id": "twyC4TsvskAt"
      }
    },
    {
      "cell_type": "code",
      "source": [
        "from sklearn.datasets import load_iris\n",
        "from sklearn. discriminant_analysis import LinearDiscriminantAnalysis"
      ],
      "metadata": {
        "id": "z6y3Zfilrgl1"
      },
      "execution_count": null,
      "outputs": []
    },
    {
      "cell_type": "markdown",
      "source": [
        "*Пункт 1-2. Взять датасет описание цветков по сортам из load_iris и разделить на обуч и тест выборку*"
      ],
      "metadata": {
        "id": "xjHl_etnspZf"
      }
    },
    {
      "cell_type": "code",
      "source": [
        "# df - DataFrame - содержит данные об ирисах\n",
        "df = load_iris()\n",
        "\n",
        "\n",
        "X = df.data\n",
        "y = df.target\n",
        "X_train, X_test, y_train, y_test = train_test_split(X, y, test_size=0.3, random_state=5)\n",
        "\n",
        "\n",
        "# LDA (метрика) и обучаем на X и y\n",
        "# default - svd\n",
        "model = LinearDiscriminantAnalysis()\n",
        "model.fit(X_train, y_train)\n",
        "\n",
        "labels = model.predict(X_test)\n",
        "\n",
        "print(f\"Accuracy: {np.mean(labels == y_test)}\")"
      ],
      "metadata": {
        "colab": {
          "base_uri": "https://localhost:8080/"
        },
        "id": "a9sdX8Flso0f",
        "outputId": "e378254e-b124-4552-95c5-75379636aafb"
      },
      "execution_count": null,
      "outputs": [
        {
          "output_type": "stream",
          "name": "stdout",
          "text": [
            "Accuracy: 0.9555555555555556\n"
          ]
        }
      ]
    },
    {
      "cell_type": "markdown",
      "source": [
        "*Пункт 3. Реализоваться классификацию с помощью LDA*"
      ],
      "metadata": {
        "id": "kOdL1tlJyneV"
      }
    },
    {
      "cell_type": "markdown",
      "source": [
        "*Поиграемся с параметрами*"
      ],
      "metadata": {
        "id": "v74OpVdOxOsO"
      }
    },
    {
      "cell_type": "code",
      "source": [
        "df = load_iris()\n",
        "# Посмотрим данные об ирисах (размер, признаки и как выглядит таблицы)\n",
        "df.data.shape"
      ],
      "metadata": {
        "id": "7r5WK_MPxYh-",
        "colab": {
          "base_uri": "https://localhost:8080/"
        },
        "outputId": "961abf8e-3528-4e19-f97c-a549787502a8"
      },
      "execution_count": null,
      "outputs": [
        {
          "output_type": "execute_result",
          "data": {
            "text/plain": [
              "(150, 4)"
            ]
          },
          "metadata": {},
          "execution_count": 35
        }
      ]
    },
    {
      "cell_type": "code",
      "source": [
        "df.feature_names"
      ],
      "metadata": {
        "colab": {
          "base_uri": "https://localhost:8080/"
        },
        "id": "CMeyAe2RWbfn",
        "outputId": "f325a3c8-a27d-4501-b93d-87183afefb4c"
      },
      "execution_count": null,
      "outputs": [
        {
          "output_type": "execute_result",
          "data": {
            "text/plain": [
              "['sepal length (cm)',\n",
              " 'sepal width (cm)',\n",
              " 'petal length (cm)',\n",
              " 'petal width (cm)']"
            ]
          },
          "metadata": {},
          "execution_count": 36
        }
      ]
    },
    {
      "cell_type": "code",
      "source": [
        "iris_df = pd.DataFrame(df.data, columns=df.feature_names)\n",
        "iris_df.head()"
      ],
      "metadata": {
        "colab": {
          "base_uri": "https://localhost:8080/",
          "height": 206
        },
        "id": "YAXz4utgWmPE",
        "outputId": "5ec2b8c8-7657-417b-c06d-8b5113a30e43"
      },
      "execution_count": null,
      "outputs": [
        {
          "output_type": "execute_result",
          "data": {
            "text/plain": [
              "   sepal length (cm)  sepal width (cm)  petal length (cm)  petal width (cm)\n",
              "0                5.1               3.5                1.4               0.2\n",
              "1                4.9               3.0                1.4               0.2\n",
              "2                4.7               3.2                1.3               0.2\n",
              "3                4.6               3.1                1.5               0.2\n",
              "4                5.0               3.6                1.4               0.2"
            ],
            "text/html": [
              "\n",
              "  <div id=\"df-bfc23a2c-2e68-4fe1-afde-ac0f28df3e92\" class=\"colab-df-container\">\n",
              "    <div>\n",
              "<style scoped>\n",
              "    .dataframe tbody tr th:only-of-type {\n",
              "        vertical-align: middle;\n",
              "    }\n",
              "\n",
              "    .dataframe tbody tr th {\n",
              "        vertical-align: top;\n",
              "    }\n",
              "\n",
              "    .dataframe thead th {\n",
              "        text-align: right;\n",
              "    }\n",
              "</style>\n",
              "<table border=\"1\" class=\"dataframe\">\n",
              "  <thead>\n",
              "    <tr style=\"text-align: right;\">\n",
              "      <th></th>\n",
              "      <th>sepal length (cm)</th>\n",
              "      <th>sepal width (cm)</th>\n",
              "      <th>petal length (cm)</th>\n",
              "      <th>petal width (cm)</th>\n",
              "    </tr>\n",
              "  </thead>\n",
              "  <tbody>\n",
              "    <tr>\n",
              "      <th>0</th>\n",
              "      <td>5.1</td>\n",
              "      <td>3.5</td>\n",
              "      <td>1.4</td>\n",
              "      <td>0.2</td>\n",
              "    </tr>\n",
              "    <tr>\n",
              "      <th>1</th>\n",
              "      <td>4.9</td>\n",
              "      <td>3.0</td>\n",
              "      <td>1.4</td>\n",
              "      <td>0.2</td>\n",
              "    </tr>\n",
              "    <tr>\n",
              "      <th>2</th>\n",
              "      <td>4.7</td>\n",
              "      <td>3.2</td>\n",
              "      <td>1.3</td>\n",
              "      <td>0.2</td>\n",
              "    </tr>\n",
              "    <tr>\n",
              "      <th>3</th>\n",
              "      <td>4.6</td>\n",
              "      <td>3.1</td>\n",
              "      <td>1.5</td>\n",
              "      <td>0.2</td>\n",
              "    </tr>\n",
              "    <tr>\n",
              "      <th>4</th>\n",
              "      <td>5.0</td>\n",
              "      <td>3.6</td>\n",
              "      <td>1.4</td>\n",
              "      <td>0.2</td>\n",
              "    </tr>\n",
              "  </tbody>\n",
              "</table>\n",
              "</div>\n",
              "    <div class=\"colab-df-buttons\">\n",
              "\n",
              "  <div class=\"colab-df-container\">\n",
              "    <button class=\"colab-df-convert\" onclick=\"convertToInteractive('df-bfc23a2c-2e68-4fe1-afde-ac0f28df3e92')\"\n",
              "            title=\"Convert this dataframe to an interactive table.\"\n",
              "            style=\"display:none;\">\n",
              "\n",
              "  <svg xmlns=\"http://www.w3.org/2000/svg\" height=\"24px\" viewBox=\"0 -960 960 960\">\n",
              "    <path d=\"M120-120v-720h720v720H120Zm60-500h600v-160H180v160Zm220 220h160v-160H400v160Zm0 220h160v-160H400v160ZM180-400h160v-160H180v160Zm440 0h160v-160H620v160ZM180-180h160v-160H180v160Zm440 0h160v-160H620v160Z\"/>\n",
              "  </svg>\n",
              "    </button>\n",
              "\n",
              "  <style>\n",
              "    .colab-df-container {\n",
              "      display:flex;\n",
              "      gap: 12px;\n",
              "    }\n",
              "\n",
              "    .colab-df-convert {\n",
              "      background-color: #E8F0FE;\n",
              "      border: none;\n",
              "      border-radius: 50%;\n",
              "      cursor: pointer;\n",
              "      display: none;\n",
              "      fill: #1967D2;\n",
              "      height: 32px;\n",
              "      padding: 0 0 0 0;\n",
              "      width: 32px;\n",
              "    }\n",
              "\n",
              "    .colab-df-convert:hover {\n",
              "      background-color: #E2EBFA;\n",
              "      box-shadow: 0px 1px 2px rgba(60, 64, 67, 0.3), 0px 1px 3px 1px rgba(60, 64, 67, 0.15);\n",
              "      fill: #174EA6;\n",
              "    }\n",
              "\n",
              "    .colab-df-buttons div {\n",
              "      margin-bottom: 4px;\n",
              "    }\n",
              "\n",
              "    [theme=dark] .colab-df-convert {\n",
              "      background-color: #3B4455;\n",
              "      fill: #D2E3FC;\n",
              "    }\n",
              "\n",
              "    [theme=dark] .colab-df-convert:hover {\n",
              "      background-color: #434B5C;\n",
              "      box-shadow: 0px 1px 3px 1px rgba(0, 0, 0, 0.15);\n",
              "      filter: drop-shadow(0px 1px 2px rgba(0, 0, 0, 0.3));\n",
              "      fill: #FFFFFF;\n",
              "    }\n",
              "  </style>\n",
              "\n",
              "    <script>\n",
              "      const buttonEl =\n",
              "        document.querySelector('#df-bfc23a2c-2e68-4fe1-afde-ac0f28df3e92 button.colab-df-convert');\n",
              "      buttonEl.style.display =\n",
              "        google.colab.kernel.accessAllowed ? 'block' : 'none';\n",
              "\n",
              "      async function convertToInteractive(key) {\n",
              "        const element = document.querySelector('#df-bfc23a2c-2e68-4fe1-afde-ac0f28df3e92');\n",
              "        const dataTable =\n",
              "          await google.colab.kernel.invokeFunction('convertToInteractive',\n",
              "                                                    [key], {});\n",
              "        if (!dataTable) return;\n",
              "\n",
              "        const docLinkHtml = 'Like what you see? Visit the ' +\n",
              "          '<a target=\"_blank\" href=https://colab.research.google.com/notebooks/data_table.ipynb>data table notebook</a>'\n",
              "          + ' to learn more about interactive tables.';\n",
              "        element.innerHTML = '';\n",
              "        dataTable['output_type'] = 'display_data';\n",
              "        await google.colab.output.renderOutput(dataTable, element);\n",
              "        const docLink = document.createElement('div');\n",
              "        docLink.innerHTML = docLinkHtml;\n",
              "        element.appendChild(docLink);\n",
              "      }\n",
              "    </script>\n",
              "  </div>\n",
              "\n",
              "\n",
              "<div id=\"df-c919c284-b075-493a-9e0b-0b57553c61e2\">\n",
              "  <button class=\"colab-df-quickchart\" onclick=\"quickchart('df-c919c284-b075-493a-9e0b-0b57553c61e2')\"\n",
              "            title=\"Suggest charts\"\n",
              "            style=\"display:none;\">\n",
              "\n",
              "<svg xmlns=\"http://www.w3.org/2000/svg\" height=\"24px\"viewBox=\"0 0 24 24\"\n",
              "     width=\"24px\">\n",
              "    <g>\n",
              "        <path d=\"M19 3H5c-1.1 0-2 .9-2 2v14c0 1.1.9 2 2 2h14c1.1 0 2-.9 2-2V5c0-1.1-.9-2-2-2zM9 17H7v-7h2v7zm4 0h-2V7h2v10zm4 0h-2v-4h2v4z\"/>\n",
              "    </g>\n",
              "</svg>\n",
              "  </button>\n",
              "\n",
              "<style>\n",
              "  .colab-df-quickchart {\n",
              "      --bg-color: #E8F0FE;\n",
              "      --fill-color: #1967D2;\n",
              "      --hover-bg-color: #E2EBFA;\n",
              "      --hover-fill-color: #174EA6;\n",
              "      --disabled-fill-color: #AAA;\n",
              "      --disabled-bg-color: #DDD;\n",
              "  }\n",
              "\n",
              "  [theme=dark] .colab-df-quickchart {\n",
              "      --bg-color: #3B4455;\n",
              "      --fill-color: #D2E3FC;\n",
              "      --hover-bg-color: #434B5C;\n",
              "      --hover-fill-color: #FFFFFF;\n",
              "      --disabled-bg-color: #3B4455;\n",
              "      --disabled-fill-color: #666;\n",
              "  }\n",
              "\n",
              "  .colab-df-quickchart {\n",
              "    background-color: var(--bg-color);\n",
              "    border: none;\n",
              "    border-radius: 50%;\n",
              "    cursor: pointer;\n",
              "    display: none;\n",
              "    fill: var(--fill-color);\n",
              "    height: 32px;\n",
              "    padding: 0;\n",
              "    width: 32px;\n",
              "  }\n",
              "\n",
              "  .colab-df-quickchart:hover {\n",
              "    background-color: var(--hover-bg-color);\n",
              "    box-shadow: 0 1px 2px rgba(60, 64, 67, 0.3), 0 1px 3px 1px rgba(60, 64, 67, 0.15);\n",
              "    fill: var(--button-hover-fill-color);\n",
              "  }\n",
              "\n",
              "  .colab-df-quickchart-complete:disabled,\n",
              "  .colab-df-quickchart-complete:disabled:hover {\n",
              "    background-color: var(--disabled-bg-color);\n",
              "    fill: var(--disabled-fill-color);\n",
              "    box-shadow: none;\n",
              "  }\n",
              "\n",
              "  .colab-df-spinner {\n",
              "    border: 2px solid var(--fill-color);\n",
              "    border-color: transparent;\n",
              "    border-bottom-color: var(--fill-color);\n",
              "    animation:\n",
              "      spin 1s steps(1) infinite;\n",
              "  }\n",
              "\n",
              "  @keyframes spin {\n",
              "    0% {\n",
              "      border-color: transparent;\n",
              "      border-bottom-color: var(--fill-color);\n",
              "      border-left-color: var(--fill-color);\n",
              "    }\n",
              "    20% {\n",
              "      border-color: transparent;\n",
              "      border-left-color: var(--fill-color);\n",
              "      border-top-color: var(--fill-color);\n",
              "    }\n",
              "    30% {\n",
              "      border-color: transparent;\n",
              "      border-left-color: var(--fill-color);\n",
              "      border-top-color: var(--fill-color);\n",
              "      border-right-color: var(--fill-color);\n",
              "    }\n",
              "    40% {\n",
              "      border-color: transparent;\n",
              "      border-right-color: var(--fill-color);\n",
              "      border-top-color: var(--fill-color);\n",
              "    }\n",
              "    60% {\n",
              "      border-color: transparent;\n",
              "      border-right-color: var(--fill-color);\n",
              "    }\n",
              "    80% {\n",
              "      border-color: transparent;\n",
              "      border-right-color: var(--fill-color);\n",
              "      border-bottom-color: var(--fill-color);\n",
              "    }\n",
              "    90% {\n",
              "      border-color: transparent;\n",
              "      border-bottom-color: var(--fill-color);\n",
              "    }\n",
              "  }\n",
              "</style>\n",
              "\n",
              "  <script>\n",
              "    async function quickchart(key) {\n",
              "      const quickchartButtonEl =\n",
              "        document.querySelector('#' + key + ' button');\n",
              "      quickchartButtonEl.disabled = true;  // To prevent multiple clicks.\n",
              "      quickchartButtonEl.classList.add('colab-df-spinner');\n",
              "      try {\n",
              "        const charts = await google.colab.kernel.invokeFunction(\n",
              "            'suggestCharts', [key], {});\n",
              "      } catch (error) {\n",
              "        console.error('Error during call to suggestCharts:', error);\n",
              "      }\n",
              "      quickchartButtonEl.classList.remove('colab-df-spinner');\n",
              "      quickchartButtonEl.classList.add('colab-df-quickchart-complete');\n",
              "    }\n",
              "    (() => {\n",
              "      let quickchartButtonEl =\n",
              "        document.querySelector('#df-c919c284-b075-493a-9e0b-0b57553c61e2 button');\n",
              "      quickchartButtonEl.style.display =\n",
              "        google.colab.kernel.accessAllowed ? 'block' : 'none';\n",
              "    })();\n",
              "  </script>\n",
              "</div>\n",
              "    </div>\n",
              "  </div>\n"
            ],
            "application/vnd.google.colaboratory.intrinsic+json": {
              "type": "dataframe",
              "variable_name": "iris_df",
              "summary": "{\n  \"name\": \"iris_df\",\n  \"rows\": 150,\n  \"fields\": [\n    {\n      \"column\": \"sepal length (cm)\",\n      \"properties\": {\n        \"dtype\": \"number\",\n        \"std\": 0.828066127977863,\n        \"min\": 4.3,\n        \"max\": 7.9,\n        \"num_unique_values\": 35,\n        \"samples\": [\n          6.2,\n          4.5,\n          5.6\n        ],\n        \"semantic_type\": \"\",\n        \"description\": \"\"\n      }\n    },\n    {\n      \"column\": \"sepal width (cm)\",\n      \"properties\": {\n        \"dtype\": \"number\",\n        \"std\": 0.4358662849366982,\n        \"min\": 2.0,\n        \"max\": 4.4,\n        \"num_unique_values\": 23,\n        \"samples\": [\n          2.3,\n          4.0,\n          3.5\n        ],\n        \"semantic_type\": \"\",\n        \"description\": \"\"\n      }\n    },\n    {\n      \"column\": \"petal length (cm)\",\n      \"properties\": {\n        \"dtype\": \"number\",\n        \"std\": 1.7652982332594662,\n        \"min\": 1.0,\n        \"max\": 6.9,\n        \"num_unique_values\": 43,\n        \"samples\": [\n          6.7,\n          3.8,\n          3.7\n        ],\n        \"semantic_type\": \"\",\n        \"description\": \"\"\n      }\n    },\n    {\n      \"column\": \"petal width (cm)\",\n      \"properties\": {\n        \"dtype\": \"number\",\n        \"std\": 0.7622376689603465,\n        \"min\": 0.1,\n        \"max\": 2.5,\n        \"num_unique_values\": 22,\n        \"samples\": [\n          0.2,\n          1.2,\n          1.3\n        ],\n        \"semantic_type\": \"\",\n        \"description\": \"\"\n      }\n    }\n  ]\n}"
            }
          },
          "metadata": {},
          "execution_count": 38
        }
      ]
    },
    {
      "cell_type": "code",
      "source": [
        "# Разделение выборки\n",
        "X = df.data\n",
        "y = df.target\n",
        "X_train, X_test, y_train, y_test = train_test_split(X, y, test_size=0.3, random_state=5)"
      ],
      "metadata": {
        "id": "J5Eh2xhkVaLA"
      },
      "execution_count": null,
      "outputs": []
    },
    {
      "cell_type": "code",
      "source": [
        "# Линейные наименьшие квадраты (lsqr)\n",
        "model = LinearDiscriminantAnalysis(solver='lsqr')\n",
        "model.fit(X_train, y_train)\n",
        "labels = model.predict(X_test)\n",
        "\n",
        "print(f\"Accuracy: {np.mean(labels == y_test)}\")"
      ],
      "metadata": {
        "colab": {
          "base_uri": "https://localhost:8080/"
        },
        "id": "vQXUzhKsxa4r",
        "outputId": "a208f084-2425-4c31-bf0a-9a31ab90ad23"
      },
      "execution_count": null,
      "outputs": [
        {
          "output_type": "stream",
          "name": "stdout",
          "text": [
            "Accuracy: 0.9555555555555556\n"
          ]
        }
      ]
    },
    {
      "cell_type": "code",
      "source": [
        "# Метод собственных значений (eigen)\n",
        "model = LinearDiscriminantAnalysis(solver='eigen')\n",
        "model.fit(X_train, y_train)\n",
        "labels = model.predict(X_test)\n",
        "\n",
        "print(f\"Accuracy: {np.mean(labels == y_test)}\")"
      ],
      "metadata": {
        "colab": {
          "base_uri": "https://localhost:8080/"
        },
        "id": "UDZ547iIx3PM",
        "outputId": "de14a88d-9918-4a33-f51b-208a17def8ac"
      },
      "execution_count": null,
      "outputs": [
        {
          "output_type": "stream",
          "name": "stdout",
          "text": [
            "Accuracy: 0.9555555555555556\n"
          ]
        }
      ]
    },
    {
      "cell_type": "markdown",
      "source": [
        "*Сравнить заложенные методы с реализацией из семинара*"
      ],
      "metadata": {
        "id": "tXlyNnuqy7HL"
      }
    },
    {
      "cell_type": "markdown",
      "source": [
        "*Функция из семинара*"
      ],
      "metadata": {
        "id": "1xp-ofjozgcI"
      }
    },
    {
      "cell_type": "code",
      "source": [
        "def LDA_dimensionality(X, y, k):\n",
        "    '''\n",
        "    X - набор данных, y - метка, k - целевой размер\n",
        "    '''\n",
        "    label_ = list(set(y))\n",
        "\n",
        "    X_classify = {}\n",
        "\n",
        "    for label in label_:\n",
        "        X1 = np.array([X[i] for i in range(len(X)) if y[i] == label])\n",
        "        X_classify[label] = X1\n",
        "\n",
        "    mju = np.mean(X, axis=0)\n",
        "    mju_classify = {}\n",
        "\n",
        "    for label in label_:\n",
        "        mju1 = np.mean(X_classify[label], axis=0)\n",
        "        mju_classify[label] = mju1\n",
        "\n",
        "    #St = np.dot((X - mju).T, X - mju)\n",
        "\n",
        "    Sw = np.zeros((len(mju), len(mju)))  # Вычислить матрицу внутриклассовой дивергенции\n",
        "    for i in label_:\n",
        "        Sw += np.dot((X_classify[i] - mju_classify[i]).T,\n",
        "                     X_classify[i] - mju_classify[i])\n",
        "\n",
        "    # Sb=St-Sw\n",
        "\n",
        "    Sb = np.zeros((len(mju), len(mju)))  # Вычислить матрицу внутриклассовой дивергенции\n",
        "    for i in label_:\n",
        "        Sb += len(X_classify[i]) * np.dot((mju_classify[i] - mju).reshape(\n",
        "            (len(mju), 1)), (mju_classify[i] - mju).reshape((1, len(mju))))\n",
        "\n",
        "    eig_vals, eig_vecs = np.linalg.eig(\n",
        "        np.linalg.inv(Sw).dot(Sb))  # Вычислить собственное значение и собственную матрицу Sw-1 * Sb\n",
        "\n",
        "    sorted_indices = np.argsort(eig_vals)\n",
        "    topk_eig_vecs = eig_vecs[:, sorted_indices[:-k - 1:-1]]  # Извлекаем первые k векторов признаков\n",
        "    return topk_eig_vecs"
      ],
      "metadata": {
        "id": "-m1kkpo4zCIf"
      },
      "execution_count": null,
      "outputs": []
    },
    {
      "cell_type": "code",
      "source": [
        "df = load_iris()\n",
        "\n",
        "X = df.data\n",
        "y = df.target"
      ],
      "metadata": {
        "id": "32cVS1p5zrpb"
      },
      "execution_count": null,
      "outputs": []
    },
    {
      "cell_type": "code",
      "source": [
        "plt.scatter(X[:, 0], X[:, 1], marker='o', c=y)\n",
        "plt.show()"
      ],
      "metadata": {
        "id": "k-o8JCJgzyjy",
        "colab": {
          "base_uri": "https://localhost:8080/",
          "height": 433
        },
        "outputId": "d7e36dd7-7fe1-49f3-f9b9-2cad79ae5b18"
      },
      "execution_count": null,
      "outputs": [
        {
          "output_type": "display_data",
          "data": {
            "text/plain": [
              "<Figure size 640x480 with 1 Axes>"
            ],
            "image/png": "[encoded data removed]"
          },
          "metadata": {}
        }
      ]
    },
    {
      "cell_type": "code",
      "source": [
        "W = LDA_dimensionality(X, y, 2)\n",
        "X_new = np.dot((X), W)\n",
        "plt.scatter(X_new[:, 0], X_new[:, 1], marker='o', c=y)\n",
        "plt.show()"
      ],
      "metadata": {
        "id": "9uBG9m_Pzzbh",
        "colab": {
          "base_uri": "https://localhost:8080/",
          "height": 430
        },
        "outputId": "6c108fdb-29bf-4ee6-c8e4-08b8a2e3e43a"
      },
      "execution_count": null,
      "outputs": [
        {
          "output_type": "display_data",
          "data": {
            "text/plain": [
              "<Figure size 640x480 with 1 Axes>"
            ],
            "image/png": "[encoded data removed]"
          },
          "metadata": {}
        }
      ]
    },
    {
      "cell_type": "code",
      "source": [
        "df = load_iris()\n",
        "\n",
        "X = df.data\n",
        "y = df.target\n",
        "\n",
        "plt.scatter(X[:, 0], X[:, 1], marker='o', c=y)\n",
        "plt.show()\n",
        "\n",
        "model = LinearDiscriminantAnalysis()\n",
        "X_new = model.fit(X, y).transform(X)\n",
        "\n",
        "plt.scatter(X_new[:, 0], X_new[:, 1], marker='o', c=y)\n",
        "plt.show()"
      ],
      "metadata": {
        "colab": {
          "base_uri": "https://localhost:8080/",
          "height": 846
        },
        "id": "G0KYMyWj1A-M",
        "outputId": "43292f52-d1cd-41d4-be57-688a281321b2"
      },
      "execution_count": null,
      "outputs": [
        {
          "output_type": "display_data",
          "data": {
            "text/plain": [
              "<Figure size 640x480 with 1 Axes>"
            ],
            "image/png": "[encoded data removed]"
          },
          "metadata": {}
        },
        {
          "output_type": "display_data",
          "data": {
            "text/plain": [
              "<Figure size 640x480 with 1 Axes>"
            ],
            "image/png": "[encoded data removed]"
          },
          "metadata": {}
        }
      ]
    },
    {
      "cell_type": "markdown",
      "source": [
        "**Задание 3. kNN**"
      ],
      "metadata": {
        "id": "Tp6LQGt41OaX"
      }
    },
    {
      "cell_type": "markdown",
      "source": [
        "*Необходимые библиотеки*"
      ],
      "metadata": {
        "id": "NX-dzFeR1aZo"
      }
    },
    {
      "cell_type": "code",
      "source": [
        "from sklearn.datasets import load_wine\n",
        "from sklearn.neighbors import KNeighborsClassifier"
      ],
      "metadata": {
        "id": "dTlyNsic1UBt"
      },
      "execution_count": null,
      "outputs": []
    },
    {
      "cell_type": "markdown",
      "source": [
        "*Пункт 1-3. Открыть датасет через load_wine() о трёх сортах вина. Использовать 3 подхода к делению выборки на трен и тест при random_state = 42. Для каждого метода при k от 1 до 50 прогнать sklearn.neighbors.KNeighborsClassifier и посчитать долю правильных ответов. Оценить и при каком k даёт лучший результат*"
      ],
      "metadata": {
        "id": "JrpgW0px18lL"
      }
    },
    {
      "cell_type": "code",
      "source": [
        "df = load_wine()\n",
        "X = df.data\n",
        "y = df.target"
      ],
      "metadata": {
        "id": "El-Vrgt_1gbc"
      },
      "execution_count": null,
      "outputs": []
    },
    {
      "cell_type": "code",
      "source": [
        "# KFold\n",
        "from sklearn.model_selection import KFold"
      ],
      "metadata": {
        "id": "Puzhw4jdRn_l"
      },
      "execution_count": null,
      "outputs": []
    },
    {
      "cell_type": "code",
      "source": [
        "\n",
        "kfold = KFold(n_splits=5, random_state=42, shuffle=True)\n",
        "\n",
        "\n",
        "\n",
        "precision_array = []\n",
        "for n in range(1, 50 + 1):\n",
        "    model = KNeighborsClassifier(n_neighbors=n)\n",
        "\n",
        "    accuracy = []\n",
        "    for train_indices, test_indices in kfold.split(X):\n",
        "        X_train, X_test, y_train, y_test = X[train_indices], X[test_indices], y[train_indices], y[test_indices]\n",
        "        model.fit(X_train, y_train)\n",
        "        accuracy.append(accuracy_score(y_test, model.predict(X_test)))\n",
        "\n",
        "    result_accuracy = np.mean(accuracy)\n",
        "\n",
        "    precision_array.append(result_accuracy)\n",
        "\n",
        "print(\"Number of neighbours with max accuracy: {}\".format(np.argmax(np.array(precision_array)) + 1))\n",
        "print(\"Max accuracy: {0:.2f}\".format(np.max(np.array(precision_array))))"
      ],
      "metadata": {
        "id": "V9p5iExQ2hoX",
        "colab": {
          "base_uri": "https://localhost:8080/"
        },
        "outputId": "c12774b9-6930-42f0-b263-12c9d1b75123"
      },
      "execution_count": null,
      "outputs": [
        {
          "output_type": "stream",
          "name": "stdout",
          "text": [
            "Number of neighbours with max accuracy: 1\n",
            "Max accuracy: 0.73\n"
          ]
        }
      ]
    },
    {
      "cell_type": "code",
      "source": [
        "# LOO\n",
        "from sklearn.model_selection import LeaveOneOut"
      ],
      "metadata": {
        "id": "XLE5RMP7QUGI"
      },
      "execution_count": null,
      "outputs": []
    },
    {
      "cell_type": "code",
      "source": [
        "loo = LeaveOneOut()\n",
        "\n",
        "precision_array = []\n",
        "for n in range(1, 50 + 1):\n",
        "    model = KNeighborsClassifier(n_neighbors=n)\n",
        "\n",
        "    accuracy = []\n",
        "    for train_indices, test_indices in loo.split(X):\n",
        "        X_train, X_test, y_train, y_test = X[train_indices], X[test_indices], y[train_indices], y[test_indices]\n",
        "        model.fit(X_train, y_train)\n",
        "        accuracy.append(accuracy_score(y_test, model.predict(X_test)))\n",
        "\n",
        "    result_accuracy = np.mean(accuracy)\n",
        "    precision_array.append(result_accuracy)\n",
        "\n",
        "print(\"Number of neighbours with max accuracy: {}\".format(np.argmax(np.array(precision_array)) + 1))\n",
        "print(\"Max accuracy: {0:.2f}\".format(np.max(np.array(precision_array))))"
      ],
      "metadata": {
        "colab": {
          "base_uri": "https://localhost:8080/"
        },
        "id": "iwd3fIUKQeOy",
        "outputId": "01faec80-9c10-474c-c957-a22edb6e6b47"
      },
      "execution_count": null,
      "outputs": [
        {
          "output_type": "stream",
          "name": "stdout",
          "text": [
            "Number of neighbours with max accuracy: 1\n",
            "Max accuracy: 0.77\n"
          ]
        }
      ]
    },
    {
      "cell_type": "code",
      "source": [
        "# Stratified KFold\n",
        "from sklearn.model_selection import StratifiedKFold"
      ],
      "metadata": {
        "id": "CucO-1OvQvsC"
      },
      "execution_count": null,
      "outputs": []
    },
    {
      "cell_type": "code",
      "source": [
        "skf = StratifiedKFold(n_splits=5, random_state=42, shuffle=True)\n",
        "\n",
        "precision_array = []\n",
        "for n in range(1, 50 + 1):\n",
        "    model = KNeighborsClassifier(n_neighbors=n)\n",
        "\n",
        "    accuracy = []\n",
        "    for train_indices, test_indices in skf.split(X, y):\n",
        "        X_train, X_test, y_train, y_test = X[train_indices], X[test_indices], y[train_indices], y[test_indices]\n",
        "        model.fit(X_train, y_train)\n",
        "        accuracy.append(accuracy_score(y_test, model.predict(X_test)))\n",
        "\n",
        "    result_accuracy = np.mean(accuracy)\n",
        "    precision_array.append(result_accuracy)\n",
        "\n",
        "print(\"Number of neighbours with max accuracy: {}\".format(np.argmax(np.array(precision_array)) + 1))\n",
        "print(\"Max accuracy: {0:.2f}\".format(np.max(np.array(precision_array))))"
      ],
      "metadata": {
        "colab": {
          "base_uri": "https://localhost:8080/"
        },
        "id": "g_Czr8-YQ0NG",
        "outputId": "0ab4d74f-4192-4751-ea3e-f85039b9031d"
      },
      "execution_count": null,
      "outputs": [
        {
          "output_type": "stream",
          "name": "stdout",
          "text": [
            "Number of neighbours with max accuracy: 1\n",
            "Max accuracy: 0.72\n"
          ]
        }
      ]
    },
    {
      "cell_type": "markdown",
      "source": [
        "**Вывод:** Лучшего всего показал Leave One Out, так какак он перебирает наибольшое кол-во деление выборки. При k = 1 все три кросс-валидации достигают наилучшей точности"
      ],
      "metadata": {
        "id": "Ce7i1sHLUtfG"
      }
    },
    {
      "cell_type": "markdown",
      "source": [
        "*Пункт 4. Произвести масштабирование признаков с помощью sklearn.preprocessing.scale. Найти оптимальное k на трёх кросс-валидаций и проверить, изменился ли оптимальный метод*"
      ],
      "metadata": {
        "id": "oMSzTj_CScMN"
      }
    },
    {
      "cell_type": "code",
      "source": [
        "from sklearn.preprocessing import scale"
      ],
      "metadata": {
        "id": "S35LP4PnTzuZ"
      },
      "execution_count": null,
      "outputs": []
    },
    {
      "cell_type": "code",
      "source": [
        "# Cтандартизация по столбцам\n",
        "X = scale(X, axis=0)"
      ],
      "metadata": {
        "id": "xxGwtXeST7ck"
      },
      "execution_count": null,
      "outputs": []
    },
    {
      "cell_type": "code",
      "source": [
        "# KFold\n",
        "\n",
        "kfold = KFold(n_splits=5, random_state=42, shuffle=True)\n",
        "\n",
        "accuracy_array = []\n",
        "for n in range(1, 50 + 1):\n",
        "    model = KNeighborsClassifier(n_neighbors=n)\n",
        "\n",
        "    accuracy = []\n",
        "    for train_indices, test_indices in kfold.split(X):\n",
        "        X_train, X_test, y_train, y_test = X[train_indices], X[test_indices], y[train_indices], y[test_indices]\n",
        "        model.fit(X_train, y_train)\n",
        "        accuracy.append(accuracy_score(y_test, model.predict(X_test)))\n",
        "\n",
        "    result_accuracy = np.mean(accuracy)\n",
        "\n",
        "    accuracy_array.append(result_accuracy)\n",
        "\n",
        "print(\"Number of neighbours with max accuracy: {}\".format(np.argmax(np.array(accuracy_array)) + 1))\n",
        "print(\"Max accuracy: {0:.2f}\".format(np.max(np.array(accuracy_array))))"
      ],
      "metadata": {
        "colab": {
          "base_uri": "https://localhost:8080/"
        },
        "id": "6LwLHQdeUWqE",
        "outputId": "21f87154-b19e-4914-f136-495c8bd5da9f"
      },
      "execution_count": null,
      "outputs": [
        {
          "output_type": "stream",
          "name": "stdout",
          "text": [
            "Number of neighbours with max accuracy: 29\n",
            "Max accuracy: 0.98\n"
          ]
        }
      ]
    },
    {
      "cell_type": "code",
      "source": [
        "# LOO\n",
        "\n",
        "loo = LeaveOneOut()\n",
        "\n",
        "precision_array = []\n",
        "for n in range(1, 50 + 1):\n",
        "    model = KNeighborsClassifier(n_neighbors=n)\n",
        "\n",
        "    accuracy = []\n",
        "    for train_indices, test_indices in loo.split(X):\n",
        "        X_train, X_test, y_train, y_test = X[train_indices], X[test_indices], y[train_indices], y[test_indices]\n",
        "        model.fit(X_train, y_train)\n",
        "        accuracy.append(accuracy_score(y_test, model.predict(X_test)))\n",
        "\n",
        "    result_accuracy = np.mean(accuracy)\n",
        "    precision_array.append(result_accuracy)\n",
        "\n",
        "print(\"Number of neighbours with max accuracy: {}\".format(np.argmax(np.array(precision_array)) + 1))\n",
        "print(\"Max accuracy: {0:.2f}\".format(np.max(np.array(precision_array))))"
      ],
      "metadata": {
        "colab": {
          "base_uri": "https://localhost:8080/"
        },
        "id": "Wbb1_ld0Udxo",
        "outputId": "3dd7596d-812e-4467-a55a-0c06288d0101"
      },
      "execution_count": null,
      "outputs": [
        {
          "output_type": "stream",
          "name": "stdout",
          "text": [
            "Number of neighbours with max accuracy: 36\n",
            "Max accuracy: 0.98\n"
          ]
        }
      ]
    },
    {
      "cell_type": "code",
      "source": [
        "# Stratified KFold\n",
        "\n",
        "skf = StratifiedKFold(n_splits=5, random_state=42, shuffle=True)\n",
        "\n",
        "precision_array = []\n",
        "for n in range(1, 50 + 1):\n",
        "    model = KNeighborsClassifier(n_neighbors=n)\n",
        "\n",
        "    accuracy = []\n",
        "    for train_indices, test_indices in skf.split(X, y):\n",
        "        X_train, X_test, y_train, y_test = X[train_indices], X[test_indices], y[train_indices], y[test_indices]\n",
        "        model.fit(X_train, y_train)\n",
        "        accuracy.append(accuracy_score(y_test, model.predict(X_test)))\n",
        "\n",
        "    result_accuracy = np.mean(accuracy)\n",
        "    precision_array.append(result_accuracy)\n",
        "\n",
        "print(\"Number of neighbours with max accuracy: {}\".format(np.argmax(np.array(precision_array)) + 1))\n",
        "print(\"Max accuracy: {0:.2f}\".format(np.max(np.array(precision_array))))"
      ],
      "metadata": {
        "colab": {
          "base_uri": "https://localhost:8080/"
        },
        "id": "Im9Jr4DnUkZ7",
        "outputId": "b2825673-aca0-49dd-e64c-ac4ee3c92b49"
      },
      "execution_count": null,
      "outputs": [
        {
          "output_type": "stream",
          "name": "stdout",
          "text": [
            "Number of neighbours with max accuracy: 13\n",
            "Max accuracy: 0.98\n"
          ]
        }
      ]
    },
    {
      "cell_type": "markdown",
      "source": [
        "Для всех методов accuracy составила 0.98. Максимальную результат доистигаем при k ближе к середение отрезка."
      ],
      "metadata": {
        "id": "5-4JNtHwVo-1"
      }
    }
  ]
}