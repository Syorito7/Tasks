{
  "cells": [
    {
      "cell_type": "markdown",
      "metadata": {
        "id": "VtGPNney0l_r"
      },
      "source": [
        "# Необходимые библиотеки"
      ]
    },
    {
      "cell_type": "code",
      "execution_count": null,
      "metadata": {
        "id": "B2LJt1Cn0VzO"
      },
      "outputs": [],
      "source": [
        "import numpy as np\n",
        "from sklearn.datasets import load_diabetes\n",
        "from sklearn.discriminant_analysis import LinearDiscriminantAnalysis # LDA\n",
        "from sklearn.preprocessing import StandardScaler # вычисляет среднее и стандартное отклонение для каждого признака\n",
        "from sklearn.model_selection import train_test_split\n",
        "from sklearn.linear_model import LinearRegression\n",
        "from sklearn.metrics import mean_squared_error, mean_squared_log_error, mean_absolute_error, r2_score, silhouette_score # метрики\n",
        "import time\n",
        "import matplotlib.pyplot as plt\n",
        "import pandas as pd\n",
        "from sklearn.cluster import KMeans\n",
        "import csv\n",
        "import requests\n",
        "from bs4 import BeautifulSoup\n",
        "from sklearn.decomposition import PCA\n",
        "from sklearn.feature_extraction.text import TfidfTransformer, TfidfVectorizer"
      ]
    },
    {
      "cell_type": "markdown",
      "metadata": {
        "id": "Nruq6fGW1Hln"
      },
      "source": [
        "# Линейная регрессия"
      ]
    },
    {
      "cell_type": "markdown",
      "metadata": {
        "id": "TJx5q2VC2XMj"
      },
      "source": [
        "*Задание 1. Используйте датасет sklearn.datasets.load_diabetes(). Разобраться с тем, какие данные в нём содержатся, а также какая переменная является целевой, можно по ссылке;*"
      ]
    },
    {
      "cell_type": "code",
      "execution_count": null,
      "metadata": {
        "colab": {
          "base_uri": "https://localhost:8080/"
        },
        "id": "WYD0qOML1O2F",
        "outputId": "f07f4a74-b9fe-46e7-b5b1-c5b519325fe3"
      },
      "outputs": [
        {
          "output_type": "stream",
          "name": "stdout",
          "text": [
            "Описание датасета:\n",
            ".. _diabetes_dataset:\n",
            "\n",
            "Diabetes dataset\n",
            "----------------\n",
            "\n",
            "Ten baseline variables, age, sex, body mass index, average blood\n",
            "pressure, and six blood serum measurements were obtained for each of n =\n",
            "442 diabetes patients, as well as the response of interest, a\n",
            "quantitative measure of disease progression one year after baseline.\n",
            "\n",
            "**Data Set Characteristics:**\n",
            "\n",
            "  :Number of Instances: 442\n",
            "\n",
            "  :Number of Attributes: First 10 columns are numeric predictive values\n",
            "\n",
            "  :Target: Column 11 is a quantitative measure of disease progression one year after baseline\n",
            "\n",
            "  :Attribute Information:\n",
            "      - age     age in years\n",
            "      - sex\n",
            "      - bmi     body mass index\n",
            "      - bp      average blood pressure\n",
            "      - s1      tc, total serum cholesterol\n",
            "      - s2      ldl, low-density lipoproteins\n",
            "      - s3      hdl, high-density lipoproteins\n",
            "      - s4      tch, total cholesterol / HDL\n",
            "      - s5      ltg, possibly log of serum triglycerides level\n",
            "      - s6      glu, blood sugar level\n",
            "\n",
            "Note: Each of these 10 feature variables have been mean centered and scaled by the standard deviation times the square root of `n_samples` (i.e. the sum of squares of each column totals 1).\n",
            "\n",
            "Source URL:\n",
            "https://www4.stat.ncsu.edu/~boos/var.select/diabetes.html\n",
            "\n",
            "For more information see:\n",
            "Bradley Efron, Trevor Hastie, Iain Johnstone and Robert Tibshirani (2004) \"Least Angle Regression,\" Annals of Statistics (with discussion), 407-499.\n",
            "(https://web.stanford.edu/~hastie/Papers/LARS/LeastAngle_2002.pdf)\n",
            "\n",
            "\n"
          ]
        }
      ],
      "source": [
        "\n",
        "# Загрузка датасета\n",
        "diabetes = load_diabetes()\n",
        "\n",
        "# Информация о датасете\n",
        "print(\"Описание датасета:\")\n",
        "print(diabetes.DESCR)\n",
        "print()\n"
      ]
    },
    {
      "cell_type": "code",
      "execution_count": null,
      "metadata": {
        "colab": {
          "base_uri": "https://localhost:8080/"
        },
        "id": "xnIFa31e11ab",
        "outputId": "601c9fcb-f72a-4bf8-af80-233f1cc0fbe6"
      },
      "outputs": [
        {
          "output_type": "stream",
          "name": "stdout",
          "text": [
            "Названия признаков:\n",
            "['age', 'sex', 'bmi', 'bp', 's1', 's2', 's3', 's4', 's5', 's6']\n",
            "\n"
          ]
        }
      ],
      "source": [
        "# Вывод названий признаков\n",
        "print(\"Названия признаков:\")\n",
        "print(diabetes.feature_names)\n",
        "print()\n"
      ]
    },
    {
      "cell_type": "code",
      "execution_count": null,
      "metadata": {
        "colab": {
          "base_uri": "https://localhost:8080/"
        },
        "id": "H4ALatye14tF",
        "outputId": "d0f942e7-d2ae-4720-fb3e-75e863864a28"
      },
      "outputs": [
        {
          "output_type": "stream",
          "name": "stdout",
          "text": [
            "Размерность данных:\n",
            "(442, 10)\n",
            "\n"
          ]
        }
      ],
      "source": [
        "# Вывод размерности данных\n",
        "print(\"Размерность данных:\")\n",
        "print(diabetes.data.shape)\n",
        "print()\n"
      ]
    },
    {
      "cell_type": "code",
      "execution_count": null,
      "metadata": {
        "colab": {
          "base_uri": "https://localhost:8080/"
        },
        "id": "g_cK3gqI17T3",
        "outputId": "a6f1b177-c968-4dfc-ef75-8eac460f974c"
      },
      "outputs": [
        {
          "output_type": "stream",
          "name": "stdout",
          "text": [
            "Размерность целевой переменной:\n",
            "(442,)\n"
          ]
        }
      ],
      "source": [
        "# Вывод размерности целевой переменной\n",
        "print(\"Размерность целевой переменной:\")\n",
        "print(diabetes.target.shape)"
      ]
    },
    {
      "cell_type": "markdown",
      "metadata": {
        "id": "9D3RS6Rf2s0b"
      },
      "source": [
        "*Задание 2. Используйте любой известный алгоритм понижения размерности (например, LDA) для того, чтобы снизить количество признаков до одного (вариант примитивнее – взять любую переменную исходного датасета, которую Вы считаете наиболее значимой).*"
      ]
    },
    {
      "cell_type": "code",
      "execution_count": null,
      "metadata": {
        "id": "axzpO7m926Z8"
      },
      "outputs": [],
      "source": [
        "X = diabetes.data\n",
        "y = diabetes.target\n",
        "\n",
        "# Инициализация и обучение LDA с одной компонентой\n",
        "lda = LinearDiscriminantAnalysis(n_components=1)\n",
        "X_lda = lda.fit_transform(X, y)"
      ]
    },
    {
      "cell_type": "code",
      "execution_count": null,
      "metadata": {
        "colab": {
          "base_uri": "https://localhost:8080/"
        },
        "id": "qcNDu8mi3MKg",
        "outputId": "623136a7-00f0-489a-ef18-565cbc55b052"
      },
      "outputs": [
        {
          "output_type": "stream",
          "name": "stdout",
          "text": [
            "Размерность данных после LDA:\n",
            "(442, 1)\n"
          ]
        }
      ],
      "source": [
        "print(\"Размерность данных после LDA:\")\n",
        "print(X_lda.shape)"
      ]
    },
    {
      "cell_type": "markdown",
      "metadata": {
        "id": "j0z4Lkar3y-8"
      },
      "source": [
        "*Задание 3. Реализуйте алгоритм линейной регрессии с использованием градиентного спуска и функциями потерь SMSE (см. выше) и SMAE (продифференцируйте самостоятельно). Обратите внимание, что для данного пункта запрещается использовать готовые реализации методов (LinearRegression, mean_squared_error и т.д.);*"
      ]
    },
    {
      "cell_type": "code",
      "execution_count": null,
      "metadata": {
        "id": "N3agf9M74AC5"
      },
      "outputs": [],
      "source": [
        "\n",
        "def linear_regression_gd(X, y, learning_rate=0.01, n_iterations=100):\n",
        "    n_samples, n_features = X.shape\n",
        "    weights = np.zeros(n_features)\n",
        "    bias = 0\n",
        "\n",
        "    for _ in range(n_iterations):\n",
        "        # Градиенты функций потерь по весам и смещению\n",
        "        predictions = np.dot(X, weights) + bias\n",
        "        d_weights = (2/n_samples) * np.dot(X.T, (predictions - y))\n",
        "        d_bias = (2/n_samples) * np.sum(predictions - y)\n",
        "\n",
        "        # Обновление весов и смещения с помощью градиентного спуска\n",
        "        weights -= learning_rate * d_weights\n",
        "        bias -= learning_rate * d_bias\n",
        "\n",
        "    return weights, bias\n",
        "\n",
        "def smse_loss(X, y, weights, bias):\n",
        "    n_samples = len(y)\n",
        "    predictions = np.dot(X, weights) + bias\n",
        "    return np.sum((predictions - y) ** 2) / n_samples # среднее значение квадратов ошибок\n",
        "\n",
        "def smae_loss(X, y, weights, bias):\n",
        "    n_samples = len(y)\n",
        "    predictions = np.dot(X, weights) + bias\n",
        "    return np.sum(np.abs(predictions - y)) / n_samples"
      ]
    },
    {
      "cell_type": "code",
      "execution_count": null,
      "metadata": {
        "colab": {
          "base_uri": "https://localhost:8080/"
        },
        "id": "1LdltZrc4xxl",
        "outputId": "a30b53b1-7027-4dc9-9fb4-2727634c9cfa"
      },
      "outputs": [
        {
          "output_type": "stream",
          "name": "stdout",
          "text": [
            "Weights: [ 0.47843451 -8.88693544 22.66362833 14.15231087 -1.7709999  -4.79357878\n",
            " -9.81312873  6.17531372 18.87619539  5.84479904]\n",
            "Bias: 131.95760905649126\n",
            "SMSE Loss: 3315.066530264702\n",
            "SMAE Loss: 46.039385491848336\n"
          ]
        }
      ],
      "source": [
        "# Стандартизация\n",
        "scaler = StandardScaler()\n",
        "X_scaled = scaler.fit_transform(X)\n",
        "\n",
        "# Обучение модели\n",
        "weights, bias = linear_regression_gd(X_scaled, y, learning_rate=0.01, n_iterations=100)\n",
        "\n",
        "# Предсказание и расчет потерь\n",
        "predictions = np.dot(X_scaled, weights) + bias\n",
        "smse_loss_value = smse_loss(X_scaled, y, weights, bias)\n",
        "smae_loss_value = smae_loss(X_scaled, y, weights, bias)\n",
        "\n",
        "print(\"Weights:\", weights)\n",
        "print(\"Bias:\", bias)\n",
        "print(\"SMSE Loss:\", smse_loss_value)\n",
        "print(\"SMAE Loss:\", smae_loss_value)"
      ]
    },
    {
      "cell_type": "markdown",
      "metadata": {
        "id": "ACd3vpnY5t26"
      },
      "source": [
        "*Задание 4. Теперь постройте прогнозы, используя стандартную реализацию LinearRegression из sklearn;*"
      ]
    },
    {
      "cell_type": "code",
      "execution_count": null,
      "metadata": {
        "colab": {
          "base_uri": "https://localhost:8080/"
        },
        "id": "Zqs2o3pZ5iVe",
        "outputId": "8009e63c-e4a0-4037-a888-89a8bded6b98"
      },
      "outputs": [
        {
          "output_type": "stream",
          "name": "stdout",
          "text": [
            "Mean Squared Error (MSE): 2900.193628493481\n",
            "Mean Absolute Error (MAE): 42.79409467959994\n"
          ]
        }
      ],
      "source": [
        "# Разбивка на обуч. и тест. выборку\n",
        "X_train, X_test, y_train, y_test = train_test_split(X_scaled, y, test_size=0.2, random_state=42)\n",
        "\n",
        "# Инициализация и обучение модели линейной регрессии\n",
        "model = LinearRegression()\n",
        "model.fit(X_train, y_train)\n",
        "\n",
        "# Прогнозы на тестовом наборе\n",
        "predictions = model.predict(X_test)\n",
        "\n",
        "# Оценка качества модели\n",
        "mse = mean_squared_error(y_test, predictions)\n",
        "mae = mean_absolute_error(y_test, predictions)\n",
        "\n",
        "print(\"Mean Squared Error (MSE):\", mse)\n",
        "print(\"Mean Absolute Error (MAE):\", mae)"
      ]
    },
    {
      "cell_type": "markdown",
      "metadata": {
        "id": "ploCfQGB6ddI"
      },
      "source": [
        "*Задание 5. Сравните основные метрики качества для \"собственной\"реализации и\n",
        "варианта из sklearn – MSE, MSLE, MAE, R2, RMSE. Какой из двух алго-\n",
        "ритмов оказался эффективнее? Какой менее подвержен переобучению?*"
      ]
    },
    {
      "cell_type": "code",
      "execution_count": null,
      "metadata": {
        "id": "RCokJvku6l77"
      },
      "outputs": [],
      "source": [
        "# собственные функции:\n",
        "\n",
        "\n",
        "def mse(y_true, y_pred):\n",
        "    return np.mean((y_true - y_pred) ** 2)\n",
        "\n",
        "def msle(y_true, y_pred):\n",
        "    return np.mean((np.log1p(y_true) - np.log1p(y_pred)) ** 2)\n",
        "\n",
        "def mae(y_true, y_pred):\n",
        "    return np.mean(np.abs(y_true - y_pred))\n",
        "\n",
        "def r2(y_true, y_pred):\n",
        "    ss_res = np.sum((y_true - y_pred) ** 2)\n",
        "    ss_tot = np.sum((y_true - np.mean(y_true)) ** 2)\n",
        "    return 1 - (ss_res / ss_tot)\n",
        "\n",
        "def rmse(y_true, y_pred):\n",
        "    return np.sqrt(mse(y_true, y_pred))"
      ]
    },
    {
      "cell_type": "code",
      "execution_count": null,
      "metadata": {
        "id": "TaQIA3Cd8T3m"
      },
      "outputs": [],
      "source": [
        "# Обучение модели линейной регрессии из scikit-learn\n",
        "model_sklearn = LinearRegression()\n",
        "model_sklearn.fit(X_train, y_train)\n",
        "y_pred_sklearn = model_sklearn.predict(X_test)"
      ]
    },
    {
      "cell_type": "code",
      "execution_count": null,
      "metadata": {
        "colab": {
          "base_uri": "https://localhost:8080/"
        },
        "id": "sT6QKDi076xC",
        "outputId": "cab37bb6-6f27-467d-816e-e60d893c1251"
      },
      "outputs": [
        {
          "output_type": "stream",
          "name": "stdout",
          "text": [
            "Метрики для реализации из scikit-learn:\n",
            "MSE: 2900.193628493481\n",
            "MSLE: 0.17696674535345117\n",
            "MAE: 42.79409467959994\n",
            "R2: 0.4526027629719196\n",
            "RMSE: 53.85344583676592\n"
          ]
        }
      ],
      "source": [
        "print(\"Метрики для реализации из scikit-learn:\")\n",
        "print(\"MSE:\", mean_squared_error(y_test, y_pred_sklearn))\n",
        "print(\"MSLE:\", mean_squared_log_error(y_test, y_pred_sklearn))\n",
        "print(\"MAE:\", mean_absolute_error(y_test, y_pred_sklearn))\n",
        "print(\"R2:\", r2_score(y_test, y_pred_sklearn))\n",
        "print(\"RMSE:\", np.sqrt(mean_squared_error(y_test, y_pred_sklearn)))"
      ]
    },
    {
      "cell_type": "code",
      "execution_count": null,
      "metadata": {
        "id": "6oF7fvEx8rDM"
      },
      "outputs": [],
      "source": [
        "# Обучение собственной реализации и расчет предсказаний\n",
        "weights, bias = linear_regression_gd(X_train, y_train, learning_rate=0.01, n_iterations=100)\n",
        "y_pred_custom = np.dot(X_test, weights) + bias"
      ]
    },
    {
      "cell_type": "code",
      "execution_count": null,
      "metadata": {
        "colab": {
          "base_uri": "https://localhost:8080/"
        },
        "id": "vqt1Ksl99ESW",
        "outputId": "9c94b034-3a09-466b-cfaf-fb1e482b3f3a"
      },
      "outputs": [
        {
          "output_type": "stream",
          "name": "stdout",
          "text": [
            "\n",
            "Метрики для собственной реализации:\n",
            "MSE: 3477.7013963638624\n",
            "MSLE: 0.22174820403793408\n",
            "MAE: 47.322117819763434\n",
            "R2: 0.34360102136795834\n",
            "RMSE: 58.97203910637534\n"
          ]
        }
      ],
      "source": [
        "# Метрики (значения) для собственной реализации\n",
        "print(\"\\nМетрики для собственной реализации:\")\n",
        "print(\"MSE:\", mse(y_test, y_pred_custom))\n",
        "print(\"MSLE:\", msle(y_test, y_pred_custom))\n",
        "print(\"MAE:\", mae(y_test, y_pred_custom))\n",
        "print(\"R2:\", r2(y_test, y_pred_custom))\n",
        "print(\"RMSE:\", rmse(y_test, y_pred_custom))"
      ]
    },
    {
      "cell_type": "markdown",
      "metadata": {
        "id": "BaP4n8E8-Pif"
      },
      "source": [
        "**Вывод:** *Сравнив значение метрик можно сказать, что собственная реализация выигрывает для MSE и RMSE. А для метрик таких как R2, MSLE и MAE - выгодней использовать реализованные в scikit-learn при кол-во итераций = 100. Если же поставить = 1000, то значение метрики MSLE в собственной будет ниже, чем во вллженной библиотеке scikit-learn*"
      ]
    },
    {
      "cell_type": "markdown",
      "metadata": {
        "id": "g0LDDcoOALOk"
      },
      "source": [
        "*Задание 6. Постройте на плоскости графики прямых (регрессий) для \"собствен-\n",
        "ной\"реализации и варианта из sklearn.*"
      ]
    },
    {
      "cell_type": "code",
      "execution_count": null,
      "metadata": {
        "id": "Awd6URmuALkG"
      },
      "outputs": [],
      "source": []
    },
    {
      "cell_type": "markdown",
      "metadata": {
        "id": "TW0hXtQMAylR"
      },
      "source": [
        "# Кластеризация: о вкусах не спорят"
      ]
    },
    {
      "cell_type": "code",
      "execution_count": null,
      "metadata": {
        "colab": {
          "base_uri": "https://localhost:8080/",
          "height": 634
        },
        "id": "qoqkBxMvA2cV",
        "outputId": "a5f36533-37f1-405b-905e-2ef0571aa999"
      },
      "outputs": [
        {
          "output_type": "stream",
          "name": "stdout",
          "text": [
            "Requirement already satisfied: yandex_music in /usr/local/lib/python3.10/dist-packages (2.2.0)\n",
            "Requirement already satisfied: requests[socks] in /usr/local/lib/python3.10/dist-packages (from yandex_music) (2.31.0)\n",
            "Requirement already satisfied: aiohttp in /usr/local/lib/python3.10/dist-packages (from yandex_music) (3.9.3)\n",
            "Requirement already satisfied: aiofiles in /usr/local/lib/python3.10/dist-packages (from yandex_music) (23.2.1)\n",
            "Requirement already satisfied: aiosignal>=1.1.2 in /usr/local/lib/python3.10/dist-packages (from aiohttp->yandex_music) (1.3.1)\n",
            "Requirement already satisfied: attrs>=17.3.0 in /usr/local/lib/python3.10/dist-packages (from aiohttp->yandex_music) (23.2.0)\n",
            "Requirement already satisfied: frozenlist>=1.1.1 in /usr/local/lib/python3.10/dist-packages (from aiohttp->yandex_music) (1.4.1)\n",
            "Requirement already satisfied: multidict<7.0,>=4.5 in /usr/local/lib/python3.10/dist-packages (from aiohttp->yandex_music) (6.0.5)\n",
            "Requirement already satisfied: yarl<2.0,>=1.0 in /usr/local/lib/python3.10/dist-packages (from aiohttp->yandex_music) (1.9.4)\n",
            "Requirement already satisfied: async-timeout<5.0,>=4.0 in /usr/local/lib/python3.10/dist-packages (from aiohttp->yandex_music) (4.0.3)\n",
            "Requirement already satisfied: charset-normalizer<4,>=2 in /usr/local/lib/python3.10/dist-packages (from requests[socks]->yandex_music) (3.3.2)\n",
            "Requirement already satisfied: idna<4,>=2.5 in /usr/local/lib/python3.10/dist-packages (from requests[socks]->yandex_music) (3.6)\n",
            "Requirement already satisfied: urllib3<3,>=1.21.1 in /usr/local/lib/python3.10/dist-packages (from requests[socks]->yandex_music) (2.0.7)\n",
            "Requirement already satisfied: certifi>=2017.4.17 in /usr/local/lib/python3.10/dist-packages (from requests[socks]->yandex_music) (2024.2.2)\n",
            "Requirement already satisfied: PySocks!=1.5.7,>=1.5.6 in /usr/local/lib/python3.10/dist-packages (from requests[socks]->yandex_music) (1.7.1)\n"
          ]
        },
        {
          "output_type": "error",
          "ename": "NetworkError",
          "evalue": "{'name': 'Unavailable For Legal Reasons', 'message': ''}  (451): b'{\"invocationInfo\":{\"req-id\":\"1710814932522206-1025892319874328715\",\"hostname\":\"music-stable-back-vla-73.vla.yp-c.yandex.net\"},\"error\":{\"name\":\"Unavailable For Legal Reasons\",\"message\":\"\"}}'",
          "traceback": [
            "\u001b[0;31m---------------------------------------------------------------------------\u001b[0m",
            "\u001b[0;31mNetworkError\u001b[0m                              Traceback (most recent call last)",
            "\u001b[0;32m<ipython-input-4-8f00ad637d2a>\u001b[0m in \u001b[0;36m<cell line: 24>\u001b[0;34m()\u001b[0m\n\u001b[1;32m     23\u001b[0m \u001b[0;34m\u001b[0m\u001b[0m\n\u001b[1;32m     24\u001b[0m \u001b[0;32mfor\u001b[0m \u001b[0mi\u001b[0m \u001b[0;32min\u001b[0m \u001b[0mset_music\u001b[0m\u001b[0;34m.\u001b[0m\u001b[0mkeys\u001b[0m\u001b[0;34m(\u001b[0m\u001b[0;34m)\u001b[0m\u001b[0;34m:\u001b[0m\u001b[0;34m\u001b[0m\u001b[0;34m\u001b[0m\u001b[0m\n\u001b[0;32m---> 25\u001b[0;31m   \u001b[0malbum\u001b[0m \u001b[0;34m=\u001b[0m \u001b[0mclient\u001b[0m\u001b[0;34m.\u001b[0m\u001b[0malbums_with_tracks\u001b[0m\u001b[0;34m(\u001b[0m\u001b[0mi\u001b[0m\u001b[0;34m)\u001b[0m\u001b[0;34m\u001b[0m\u001b[0;34m\u001b[0m\u001b[0m\n\u001b[0m\u001b[1;32m     26\u001b[0m   \u001b[0;32mfor\u001b[0m \u001b[0mvolume\u001b[0m \u001b[0;32min\u001b[0m \u001b[0malbum\u001b[0m\u001b[0;34m.\u001b[0m\u001b[0mvolumes\u001b[0m\u001b[0;34m:\u001b[0m\u001b[0;34m\u001b[0m\u001b[0;34m\u001b[0m\u001b[0m\n\u001b[1;32m     27\u001b[0m     \u001b[0;32mfor\u001b[0m \u001b[0mtrack\u001b[0m \u001b[0;32min\u001b[0m \u001b[0mvolume\u001b[0m\u001b[0;34m:\u001b[0m\u001b[0;34m\u001b[0m\u001b[0;34m\u001b[0m\u001b[0m\n",
            "\u001b[0;32m/usr/local/lib/python3.10/dist-packages/yandex_music/client.py\u001b[0m in \u001b[0;36mwrapper\u001b[0;34m(*args, **kwargs)\u001b[0m\n\u001b[1;32m     68\u001b[0m         \u001b[0mlogger\u001b[0m\u001b[0;34m.\u001b[0m\u001b[0mdebug\u001b[0m\u001b[0;34m(\u001b[0m\u001b[0;34mf'Entering: {method.__name__}'\u001b[0m\u001b[0;34m)\u001b[0m\u001b[0;34m\u001b[0m\u001b[0;34m\u001b[0m\u001b[0m\n\u001b[1;32m     69\u001b[0m \u001b[0;34m\u001b[0m\u001b[0m\n\u001b[0;32m---> 70\u001b[0;31m         \u001b[0mresult\u001b[0m \u001b[0;34m=\u001b[0m \u001b[0mmethod\u001b[0m\u001b[0;34m(\u001b[0m\u001b[0;34m*\u001b[0m\u001b[0margs\u001b[0m\u001b[0;34m,\u001b[0m \u001b[0;34m**\u001b[0m\u001b[0mkwargs\u001b[0m\u001b[0;34m)\u001b[0m\u001b[0;34m\u001b[0m\u001b[0;34m\u001b[0m\u001b[0m\n\u001b[0m\u001b[1;32m     71\u001b[0m         \u001b[0mlogger\u001b[0m\u001b[0;34m.\u001b[0m\u001b[0mdebug\u001b[0m\u001b[0;34m(\u001b[0m\u001b[0mresult\u001b[0m\u001b[0;34m)\u001b[0m\u001b[0;34m\u001b[0m\u001b[0;34m\u001b[0m\u001b[0m\n\u001b[1;32m     72\u001b[0m \u001b[0;34m\u001b[0m\u001b[0m\n",
            "\u001b[0;32m/usr/local/lib/python3.10/dist-packages/yandex_music/client.py\u001b[0m in \u001b[0;36malbums_with_tracks\u001b[0;34m(self, album_id, *args, **kwargs)\u001b[0m\n\u001b[1;32m    727\u001b[0m         \u001b[0murl\u001b[0m \u001b[0;34m=\u001b[0m \u001b[0;34mf'{self.base_url}/albums/{album_id}/with-tracks'\u001b[0m\u001b[0;34m\u001b[0m\u001b[0;34m\u001b[0m\u001b[0m\n\u001b[1;32m    728\u001b[0m \u001b[0;34m\u001b[0m\u001b[0m\n\u001b[0;32m--> 729\u001b[0;31m         \u001b[0mresult\u001b[0m \u001b[0;34m=\u001b[0m \u001b[0mself\u001b[0m\u001b[0;34m.\u001b[0m\u001b[0m_request\u001b[0m\u001b[0;34m.\u001b[0m\u001b[0mget\u001b[0m\u001b[0;34m(\u001b[0m\u001b[0murl\u001b[0m\u001b[0;34m,\u001b[0m \u001b[0;34m*\u001b[0m\u001b[0margs\u001b[0m\u001b[0;34m,\u001b[0m \u001b[0;34m**\u001b[0m\u001b[0mkwargs\u001b[0m\u001b[0;34m)\u001b[0m\u001b[0;34m\u001b[0m\u001b[0;34m\u001b[0m\u001b[0m\n\u001b[0m\u001b[1;32m    730\u001b[0m \u001b[0;34m\u001b[0m\u001b[0m\n\u001b[1;32m    731\u001b[0m         \u001b[0;32mreturn\u001b[0m \u001b[0mAlbum\u001b[0m\u001b[0;34m.\u001b[0m\u001b[0mde_json\u001b[0m\u001b[0;34m(\u001b[0m\u001b[0mresult\u001b[0m\u001b[0;34m,\u001b[0m \u001b[0mself\u001b[0m\u001b[0;34m)\u001b[0m\u001b[0;34m\u001b[0m\u001b[0;34m\u001b[0m\u001b[0m\n",
            "\u001b[0;32m/usr/local/lib/python3.10/dist-packages/yandex_music/utils/request.py\u001b[0m in \u001b[0;36mget\u001b[0;34m(self, url, params, timeout, **kwargs)\u001b[0m\n\u001b[1;32m    260\u001b[0m             \u001b[0;34m:\u001b[0m\u001b[0;32mclass\u001b[0m\u001b[0;34m:\u001b[0m\u001b[0;31m`\u001b[0m\u001b[0myandex_music\u001b[0m\u001b[0;34m.\u001b[0m\u001b[0mexceptions\u001b[0m\u001b[0;34m.\u001b[0m\u001b[0mYandexMusicError\u001b[0m\u001b[0;31m`\u001b[0m\u001b[0;34m:\u001b[0m \u001b[0mБазовое\u001b[0m \u001b[0mисключение\u001b[0m \u001b[0mбиблиотеки\u001b[0m\u001b[0;34m.\u001b[0m\u001b[0;34m\u001b[0m\u001b[0;34m\u001b[0m\u001b[0m\n\u001b[1;32m    261\u001b[0m         \"\"\"\n\u001b[0;32m--> 262\u001b[0;31m         result = self._request_wrapper(\n\u001b[0m\u001b[1;32m    263\u001b[0m             \u001b[0;34m'GET'\u001b[0m\u001b[0;34m,\u001b[0m \u001b[0murl\u001b[0m\u001b[0;34m,\u001b[0m \u001b[0mparams\u001b[0m\u001b[0;34m=\u001b[0m\u001b[0mparams\u001b[0m\u001b[0;34m,\u001b[0m \u001b[0mheaders\u001b[0m\u001b[0;34m=\u001b[0m\u001b[0mself\u001b[0m\u001b[0;34m.\u001b[0m\u001b[0mheaders\u001b[0m\u001b[0;34m,\u001b[0m \u001b[0mproxies\u001b[0m\u001b[0;34m=\u001b[0m\u001b[0mself\u001b[0m\u001b[0;34m.\u001b[0m\u001b[0mproxies\u001b[0m\u001b[0;34m,\u001b[0m \u001b[0mtimeout\u001b[0m\u001b[0;34m=\u001b[0m\u001b[0mtimeout\u001b[0m\u001b[0;34m,\u001b[0m \u001b[0;34m**\u001b[0m\u001b[0mkwargs\u001b[0m\u001b[0;34m\u001b[0m\u001b[0;34m\u001b[0m\u001b[0m\n\u001b[1;32m    264\u001b[0m         )\n",
            "\u001b[0;32m/usr/local/lib/python3.10/dist-packages/yandex_music/utils/request.py\u001b[0m in \u001b[0;36m_request_wrapper\u001b[0;34m(self, *args, **kwargs)\u001b[0m\n\u001b[1;32m    240\u001b[0m             \u001b[0;32mraise\u001b[0m \u001b[0mNetworkError\u001b[0m\u001b[0;34m(\u001b[0m\u001b[0;34m'Bad Gateway'\u001b[0m\u001b[0;34m)\u001b[0m\u001b[0;34m\u001b[0m\u001b[0;34m\u001b[0m\u001b[0m\n\u001b[1;32m    241\u001b[0m \u001b[0;34m\u001b[0m\u001b[0m\n\u001b[0;32m--> 242\u001b[0;31m         \u001b[0;32mraise\u001b[0m \u001b[0mNetworkError\u001b[0m\u001b[0;34m(\u001b[0m\u001b[0;34mf'{message} ({resp.status_code}): {resp.content}'\u001b[0m\u001b[0;34m)\u001b[0m\u001b[0;34m\u001b[0m\u001b[0;34m\u001b[0m\u001b[0m\n\u001b[0m\u001b[1;32m    243\u001b[0m \u001b[0;34m\u001b[0m\u001b[0m\n\u001b[1;32m    244\u001b[0m     def get(\n",
            "\u001b[0;31mNetworkError\u001b[0m: {'name': 'Unavailable For Legal Reasons', 'message': ''}  (451): b'{\"invocationInfo\":{\"req-id\":\"1710814932522206-1025892319874328715\",\"hostname\":\"music-stable-back-vla-73.vla.yp-c.yandex.net\"},\"error\":{\"name\":\"Unavailable For Legal Reasons\",\"message\":\"\"}}'"
          ]
        }
      ],
      "source": [
        "import os\n",
        "!pip install yandex_music\n",
        "from yandex_music import Client\n",
        "\n",
        "# при корректной работе необходима авторизация! - токен не работает\n",
        "TOKEN = os.environ.get('y0_AgAEA7qkKEIPAAG8XgAAAAD-tBPcAADRUVD4S2NCvr0j9hN0Y7E6vTDBOA')\n",
        "\n",
        "client = Client(TOKEN).init()\n",
        "\n",
        "set_music = {13247: 0, # paramore\n",
        "             1055688: 0, # paramore\n",
        "             43233: 1, # skillet\n",
        "             1170182: 1, # skillet\n",
        "             488052: 2, # linkin park\n",
        "             154525: 2, # linkin park\n",
        "             3579166: 3, # adele\n",
        "             718991: 3, # adele\n",
        "             7112: 4, # Rihanna\n",
        "             2482211: 4, # Rihanna\n",
        "             }\n",
        "\n",
        "df = pd.DataFrame(columns=['text','label'])\n",
        "\n",
        "for i in set_music.keys():\n",
        "  album = client.albums_with_tracks(i)\n",
        "  for volume in album.volumes:\n",
        "    for track in volume:\n",
        "      try:\n",
        "        text = track.get_lyrics().fetch_lyrics().lower()\n",
        "        # почистим от знаков препинания\n",
        "        text = \"\".join(c for c in text if c not in ('!','.',':', ',', '?', '—', '(', ')'))\n",
        "        text = text.replace('\\n',' ')\n",
        "        df.loc[ len(df.index)] = [text, musician[i]]\n",
        "      except:\n",
        "        text"
      ]
    },
    {
      "cell_type": "code",
      "source": [
        "labels = df.label.values"
      ],
      "metadata": {
        "id": "8C9eqi0emVTg"
      },
      "execution_count": null,
      "outputs": []
    },
    {
      "cell_type": "code",
      "source": [
        "vectorizer = TfidfVectorizer(max_df=0.6, min_df=1,max_features=1000,stop_words='english')\n",
        "\n",
        "X = vectorizer.fit_transform(df['text'].values)\n",
        "print(\"n_samples: %d, n_features: %d\" % X.shape)"
      ],
      "metadata": {
        "id": "IeOUyWxBmbEi"
      },
      "execution_count": null,
      "outputs": []
    },
    {
      "cell_type": "code",
      "source": [
        "# кластеризация\n",
        "km = KMeans(n_clusters=5, init='k-means++',max_iter=100,n_init=20,random_state=1)\n",
        "\n",
        "km.fit(X)\n",
        "# метрика\n",
        "print(\"V-measure: %0.3f\" % metrics.v_measure_score(labels, km.labels_))\n",
        "# выведем слова (самык ценные - часто повтор. по исполнителям)\n",
        "order_centroids = kmeans.cluster_centers_.argsort()[:, ::-1]\n",
        "terms = vectorizer.get_feature_names_out()\n",
        "for i in range(5):\n",
        "    print(\"Cluster %d:\" % (i + 1), end='')\n",
        "    for ind in order_centroids[i, :10]:\n",
        "        print(' %s' % terms[ind], end='')\n",
        "    print()"
      ],
      "metadata": {
        "id": "rYsPklMGmkdQ"
      },
      "execution_count": null,
      "outputs": []
    },
    {
      "cell_type": "code",
      "source": [],
      "metadata": {
        "id": "RbZeZzakne7u"
      },
      "execution_count": null,
      "outputs": []
    }
  ],
  "metadata": {
    "colab": {
      "provenance": [],
      "toc_visible": true
    },
    "kernelspec": {
      "display_name": "Python 3",
      "name": "python3"
    },
    "language_info": {
      "name": "python"
    }
  },
  "nbformat": 4,
  "nbformat_minor": 0
}