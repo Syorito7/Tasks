{
  "nbformat": 4,
  "nbformat_minor": 0,
  "metadata": {
    "colab": {
      "provenance": []
    },
    "kernelspec": {
      "name": "python3",
      "display_name": "Python 3"
    },
    "language_info": {
      "name": "python"
    }
  },
  "cells": [
    {
      "cell_type": "markdown",
      "source": [
        "# Необходимые библиотеки"
      ],
      "metadata": {
        "id": "JWzMd8xFNXse"
      }
    },
    {
      "cell_type": "code",
      "execution_count": null,
      "metadata": {
        "id": "7nXGFIFLNRtj"
      },
      "outputs": [],
      "source": [
        "import numpy as np\n",
        "import matplotlib.pyplot as plt\n",
        "import sympy as sp"
      ]
    },
    {
      "cell_type": "markdown",
      "source": [
        "# Задача 1.1.4 (переделать)"
      ],
      "metadata": {
        "id": "uygwa3q6Nnzl"
      }
    },
    {
      "cell_type": "code",
      "source": [
        "# Шаги 1-2:\n",
        "# Определение переменных и функции\n",
        "n = sp.Symbol('n')\n",
        "a_n = 48 / (5 * (n**2 + 7*n + 12))\n",
        "\n",
        "# Вычисление суммы ряда для разных значений N\n",
        "for N in [10, 100, 1000, 10000]:\n",
        "    S_n = sp.summation(a_n, (n, 1, N))  # сумма первых N членов ряда\n",
        "    print(f\"Сумма ряда S для N = {N}:\")\n",
        "    print(S_n.evalf())  # Вычисление численного значения суммы"
      ],
      "metadata": {
        "colab": {
          "base_uri": "https://localhost:8080/"
        },
        "id": "eQLgpWTYPMkc",
        "outputId": "ede48097-ee72-4c83-e9db-710e2178fa24"
      },
      "execution_count": null,
      "outputs": [
        {
          "output_type": "stream",
          "name": "stdout",
          "text": [
            "Сумма ряда S для N = 10:\n",
            "1.71428571428571\n",
            "Сумма ряда S для N = 100:\n",
            "2.30769230769231\n",
            "Сумма ряда S для N = 1000:\n",
            "2.39043824701195\n",
            "Сумма ряда S для N = 10000:\n",
            "2.39904038384646\n"
          ]
        }
      ]
    },
    {
      "cell_type": "code",
      "source": [
        "# Определение переменных и функции\n",
        "n = sp.Symbol('n')\n",
        "a_n = 48 / (5 * (n**2 + 7*n + 12))\n",
        "\n",
        "# Функция для определения количества верных цифр в числе\n",
        "def significant_digits(x, y):\n",
        "    return len(str(y)) - (len(str(y)) - len(str(y).rstrip('0'))) - (len(str(x)) - len(str(x).rstrip('0')))\n",
        "\n",
        "# Вычисление суммы ряда для разных значений N и определение абсолютной погрешности и количества верных цифр\n",
        "for N in [10, 100, 1000, 10000]:\n",
        "    # Вычисление значения S как предела частичной суммы для текущего N\n",
        "    S = sp.limit(sp.Sum(a_n, (n, 1, N)), n, sp.oo).evalf()\n",
        "    S_N = sp.summation(a_n, (n, 1, N)).evalf()  # Сумма первых N членов ряда\n",
        "    absolute_error = abs(S_N - S)  # Абсолютная погрешность\n",
        "    print(f\"Для N = {N}:\")\n",
        "    print(f\"Значение суммы ряда S_N: {S_N}\")\n",
        "    print(f\"Абсолютная погрешность: {absolute_error}\")\n",
        "    print(f\"Количество верных цифр: {significant_digits(S_N, S)}\")"
      ],
      "metadata": {
        "colab": {
          "base_uri": "https://localhost:8080/"
        },
        "id": "rU7ohkc8xJ49",
        "outputId": "454abc86-408c-43c0-b9fd-0a6ae5981c79"
      },
      "execution_count": null,
      "outputs": [
        {
          "output_type": "stream",
          "name": "stdout",
          "text": [
            "Для N = 10:\n",
            "Значение суммы ряда S_N: 1.71428571428571\n",
            "Абсолютная погрешность: 0\n",
            "Количество верных цифр: 16\n",
            "Для N = 100:\n",
            "Значение суммы ряда S_N: 2.30769230769231\n",
            "Абсолютная погрешность: 0\n",
            "Количество верных цифр: 16\n",
            "Для N = 1000:\n",
            "Значение суммы ряда S_N: 2.39043824701195\n",
            "Абсолютная погрешность: 0\n",
            "Количество верных цифр: 16\n",
            "Для N = 10000:\n",
            "Значение суммы ряда S_N: 2.39904038384646\n",
            "Абсолютная погрешность: 0\n",
            "Количество верных цифр: 16\n"
          ]
        }
      ]
    },
    {
      "cell_type": "code",
      "source": [
        "# Определение переменных и функции\n",
        "n = sp.Symbol('n')\n",
        "a_n = 48 / (5 * (n**2 + 7*n + 12))\n",
        "\n",
        "# Вычисление значения S как предела частичной суммы\n",
        "S = sp.limit(sp.Sum(a_n, (n, 1, sp.oo)), n, sp.oo).evalf()\n",
        "\n",
        "# Функция для определения количества верных цифр в числе\n",
        "def significant_digits(x, y):\n",
        "    return len(str(y)) - (len(str(y)) - len(str(y).rstrip('0'))) - (len(str(x)) - len(str(x).rstrip('0')))\n",
        "\n",
        "# Вычисление суммы ряда для разных значений N и определение абсолютной погрешности и количества верных цифр\n",
        "N_values = [10, 100, 1000, 10000]\n",
        "results = []\n",
        "for N in N_values:\n",
        "    S_N = sp.summation(a_n, (n, 1, N)).evalf()  # Сумма первых N членов ряда\n",
        "    absolute_error = abs(S_N - S)  # Абсолютная погрешность\n",
        "    digits = significant_digits(S_N, S)  # Количество верных цифр\n",
        "    results.append((N, S_N, absolute_error, digits))\n",
        "\n",
        "# Создание гистограммы\n",
        "plt.figure(figsize=(10, 6))\n",
        "plt.bar(range(len(N_values)), [result[3] for result in results], color='skyblue')\n",
        "plt.xticks(range(len(N_values)), [result[0] for result in results])\n",
        "plt.xlabel('N (Количество членов ряда)')\n",
        "plt.ylabel('Количество верных цифр')\n",
        "plt.title('Зависимость количества верных цифр от количества членов ряда')\n",
        "plt.show()"
      ],
      "metadata": {
        "colab": {
          "base_uri": "https://localhost:8080/",
          "height": 564
        },
        "id": "w-likQPaxzqL",
        "outputId": "0d8049c4-1bec-4b67-d32a-7e95f53e02e6"
      },
      "execution_count": null,
      "outputs": [
        {
          "output_type": "display_data",
          "data": {
            "text/plain": [
              "<Figure size 1000x600 with 1 Axes>"
            ],
            "image/png": "[encoded data removed]"
          },
          "metadata": {}
        }
      ]
    },
    {
      "cell_type": "markdown",
      "source": [
        "# Задача 1.5.1"
      ],
      "metadata": {
        "id": "9Oe9eVcnyaFL"
      }
    },
    {
      "cell_type": "code",
      "source": [
        "\n",
        "def quadratic_equation(a, b, c):\n",
        "    discriminant = b**2 - 4*a*c\n",
        "    if discriminant > 0:\n",
        "        x1 = (-b + np.sqrt(discriminant)) / (2*a)\n",
        "        x2 = (-b - np.sqrt(discriminant)) / (2*a)\n",
        "        return x1, x2\n",
        "    elif discriminant == 0:\n",
        "        x = -b / (2*a)\n",
        "        return x, x\n",
        "    else:\n",
        "        return None\n",
        "\n",
        "def error_estimate(a, b, c, delta_b):\n",
        "    delta_x1 = abs((-b + np.sqrt(b**2 - 4*a*c)) / (2*a) - (-b + delta_b + np.sqrt((b + delta_b)**2 - 4*a*c)) / (2*a))\n",
        "    delta_x2 = abs((-b - np.sqrt(b**2 - 4*a*c)) / (2*a) - (-b - delta_b + np.sqrt((b - delta_b)**2 - 4*a*c)) / (2*a))\n",
        "    return delta_x1, delta_x2\n",
        "\n",
        "# Заданные коэффициенты\n",
        "b_star = -39.6\n",
        "c = -716.85\n",
        "\n",
        "# Погрешность коэффициента\n",
        "delta_b = 0.1\n",
        "\n",
        "# Вычисление корней при заданных коэффициентах\n",
        "x1, x2 = quadratic_equation(2, b_star, c)\n",
        "print(\"Корни уравнения при заданных коэффициентах:\")\n",
        "print(\"x1 =\", x1)\n",
        "print(\"x2 =\", x2)\n",
        "\n",
        "# Оценка погрешностей корней\n",
        "delta_x1, delta_x2 = error_estimate(2, b_star, c, delta_b)\n",
        "print(\"\\nОценка погрешностей корней при погрешности коэффициента b на\", delta_b, \":\")\n",
        "print(\"delta_x1 =\", delta_x1)\n",
        "print(\"delta_x2 =\", delta_x2)\n"
      ],
      "metadata": {
        "colab": {
          "base_uri": "https://localhost:8080/"
        },
        "id": "CgIGZq1_yh3N",
        "outputId": "12a1b082-b530-4314-8594-a8ed31978d7d"
      },
      "execution_count": null,
      "outputs": [
        {
          "output_type": "stream",
          "name": "stdout",
          "text": [
            "Корни уравнения при заданных коэффициентах:\n",
            "x1 = 31.264339446844595\n",
            "x2 = -11.464339446844596\n",
            "\n",
            "Оценка погрешностей корней при погрешности коэффициента b на 0.1 :\n",
            "delta_x1 = 0.01342676739565718\n",
            "delta_x2 = 42.71527509888098\n"
          ]
        }
      ]
    },
    {
      "cell_type": "code",
      "source": [
        "# Погрешность коэффициента\n",
        "delta_b = 0.01\n",
        "\n",
        "# Оценка погрешностей корней\n",
        "delta_x1, delta_x2 = error_estimate(2, b_star, c, delta_b)\n",
        "print(\"\\nОценка погрешностей корней при погрешности коэффициента b на\", delta_b, \":\")\n",
        "print(\"delta_x1 =\", delta_x1)\n",
        "print(\"delta_x2 =\", delta_x2)\n"
      ],
      "metadata": {
        "colab": {
          "base_uri": "https://localhost:8080/"
        },
        "id": "NMJnFWEfzUrJ",
        "outputId": "938bcf99-609f-4f0e-f6a4-9146b10e9c11"
      },
      "execution_count": null,
      "outputs": [
        {
          "output_type": "stream",
          "name": "stdout",
          "text": [
            "\n",
            "Оценка погрешностей корней при погрешности коэффициента b на 0.01 :\n",
            "delta_x1 = 0.0013416423565182356\n",
            "delta_x2 = 42.72733748105854\n"
          ]
        }
      ]
    },
    {
      "cell_type": "code",
      "source": [
        "# Погрешность коэффициента\n",
        "delta_b = 0.001\n",
        "\n",
        "# Оценка погрешностей корней\n",
        "delta_x1, delta_x2 = error_estimate(2, b_star, c, delta_b)\n",
        "print(\"\\nОценка погрешностей корней при погрешности коэффициента b на\", delta_b, \":\")\n",
        "print(\"delta_x1 =\", delta_x1)\n",
        "print(\"delta_x2 =\", delta_x2)"
      ],
      "metadata": {
        "colab": {
          "base_uri": "https://localhost:8080/"
        },
        "id": "5TRhDqNjzjc9",
        "outputId": "9d7f419f-c600-4547-e8b1-1c9a24610ab2"
      },
      "execution_count": null,
      "outputs": [
        {
          "output_type": "stream",
          "name": "stdout",
          "text": [
            "\n",
            "Оценка погрешностей корней при погрешности коэффициента b на 0.001 :\n",
            "delta_x1 = 0.00013415389737048145\n",
            "delta_x2 = 42.72854474208908\n"
          ]
        }
      ]
    },
    {
      "cell_type": "markdown",
      "source": [
        "# Задача 1.7"
      ],
      "metadata": {
        "id": "Dn76f7mK3S4E"
      }
    },
    {
      "cell_type": "code",
      "source": [
        "\n",
        "# Одинарная точность\n",
        "single_precision_zero = np.float32(0.0)\n",
        "single_precision_inf = np.float32(np.inf)\n",
        "single_precision_epsilon = np.float32(np.finfo(np.float32).eps)\n",
        "\n",
        "# Двойная точность\n",
        "double_precision_zero = np.float64(0.0)\n",
        "double_precision_inf = np.float64(np.inf)\n",
        "double_precision_epsilon = np.float64(np.finfo(np.float64).eps)\n",
        "\n",
        "# Расширенная точность\n",
        "extended_precision_zero = np.float128(0.0)\n",
        "extended_precision_inf = np.float128(np.inf)\n",
        "extended_precision_epsilon = np.float128(np.finfo(np.float128).eps)\n",
        "\n",
        "print(\"Single Precision:\")\n",
        "print(\"Machine Zero:\", single_precision_zero)\n",
        "print(\"Machine Infinity:\", single_precision_inf)\n",
        "print(\"Machine Epsilon:\", single_precision_epsilon)\n",
        "\n",
        "print(\"\\nDouble Precision:\")\n",
        "print(\"Machine Zero:\", double_precision_zero)\n",
        "print(\"Machine Infinity:\", double_precision_inf)\n",
        "print(\"Machine Epsilon:\", double_precision_epsilon)\n",
        "\n",
        "print(\"\\nExtended Precision:\")\n",
        "print(\"Machine Zero:\", extended_precision_zero)\n",
        "print(\"Machine Infinity:\", extended_precision_inf)\n",
        "print(\"Machine Epsilon:\", extended_precision_epsilon)\n"
      ],
      "metadata": {
        "colab": {
          "base_uri": "https://localhost:8080/"
        },
        "id": "_-rIeMIN3YRW",
        "outputId": "e64e2035-a5ed-4cbf-ee78-4fae997cd8ef"
      },
      "execution_count": null,
      "outputs": [
        {
          "output_type": "stream",
          "name": "stdout",
          "text": [
            "Single Precision:\n",
            "Machine Zero: 0.0\n",
            "Machine Infinity: inf\n",
            "Machine Epsilon: 1.1920929e-07\n",
            "\n",
            "Double Precision:\n",
            "Machine Zero: 0.0\n",
            "Machine Infinity: inf\n",
            "Machine Epsilon: 2.220446049250313e-16\n",
            "\n",
            "Extended Precision:\n",
            "Machine Zero: 0.0\n",
            "Machine Infinity: inf\n",
            "Machine Epsilon: 1.084202172485504434e-19\n"
          ]
        }
      ]
    },
    {
      "cell_type": "markdown",
      "source": [
        "# Задача 1.6 (необходим MATHCAD)"
      ],
      "metadata": {
        "id": "k0LlFXwp3uTp"
      }
    },
    {
      "cell_type": "code",
      "source": [],
      "metadata": {
        "id": "Iwc8R8L_3x2J"
      },
      "execution_count": null,
      "outputs": []
    },
    {
      "cell_type": "markdown",
      "source": [
        "# Задача 1.10.4"
      ],
      "metadata": {
        "id": "Cv4-k5hT4RhF"
      }
    },
    {
      "cell_type": "code",
      "source": [
        "import numpy as np\n",
        "\n",
        "# Заданные векторы\n",
        "a1 = np.array([9, 17, 1])\n",
        "a2 = np.array([27, 35, -18])\n",
        "a3 = np.array([6, 14, 4])\n",
        "\n",
        "# Функция для определения компланарности векторов\n",
        "def are_coplanar(vectors, threshold=0):\n",
        "    matrix = np.vstack(vectors).T\n",
        "    det = np.linalg.det(matrix)\n",
        "    return abs(det) < threshold\n",
        "\n",
        "# Проверка компланарности векторов с точными координатами\n",
        "exact_coplanar = are_coplanar([a1, a2, a3])\n",
        "print(\"Точные координаты:\")\n",
        "print(\"Векторы компланарны?\" , exact_coplanar)\n",
        "\n",
        "# Функция для проверки с приближёнными координатами\n",
        "def check_with_error(vectors, error_percent):\n",
        "    threshold = np.linalg.norm(vectors[0]) * error_percent / 100\n",
        "    return are_coplanar(vectors, threshold)\n",
        "\n",
        "# Проверка с приближёнными координатами\n",
        "alpha = 0.5\n",
        "beta = -0.1\n",
        "alpha_error = 0.5  # альфа = 0.5%\n",
        "beta_error = 0.1  # бета = -0.1%\n",
        "\n",
        "approximate_coplanar_alpha = check_with_error([a1, a2, a3], alpha_error)\n",
        "approximate_coplanar_beta = check_with_error([a1, a2, a3], beta_error)\n",
        "\n",
        "print(\"\\nКоординаты с погрешностью α = 0.5%:\")\n",
        "print(\"Векторы компланарны?\" , approximate_coplanar_alpha)\n",
        "\n",
        "print(\"\\nКоординаты с погрешностью β = -0.1%:\")\n",
        "print(\"Векторы компланарны?\" , approximate_coplanar_beta)\n"
      ],
      "metadata": {
        "colab": {
          "base_uri": "https://localhost:8080/"
        },
        "id": "PdZHPB5KA0pN",
        "outputId": "b0bd4ecf-f8fa-497c-ada1-b564d3962510"
      },
      "execution_count": null,
      "outputs": [
        {
          "output_type": "stream",
          "name": "stdout",
          "text": [
            "Точные координаты:\n",
            "Векторы компланарны? False\n",
            "\n",
            "Координаты с погрешностью α = 0.5%:\n",
            "Векторы компланарны? False\n",
            "\n",
            "Координаты с погрешностью β = -0.1%:\n",
            "Векторы компланарны? False\n"
          ]
        }
      ]
    }
  ]
}