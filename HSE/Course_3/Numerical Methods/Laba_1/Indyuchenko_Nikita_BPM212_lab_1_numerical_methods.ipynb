{
  "nbformat": 4,
  "nbformat_minor": 0,
  "metadata": {
    "colab": {
      "provenance": [],
      "collapsed_sections": [
        "C9Tmb4UEqwfs"
      ]
    },
    "kernelspec": {
      "name": "python3",
      "display_name": "Python 3"
    },
    "language_info": {
      "name": "python"
    }
  },
  "cells": [
    {
      "cell_type": "markdown",
      "source": [
        "# Необходимые библиотеки"
      ],
      "metadata": {
        "id": "JWzMd8xFNXse"
      }
    },
    {
      "cell_type": "code",
      "execution_count": 6,
      "metadata": {
        "id": "7nXGFIFLNRtj"
      },
      "outputs": [],
      "source": [
        "import numpy as np\n",
        "import matplotlib.pyplot as plt\n",
        "import sympy as sp"
      ]
    },
    {
      "cell_type": "markdown",
      "source": [
        "# Задача 1.1.4 (переделать)"
      ],
      "metadata": {
        "id": "uygwa3q6Nnzl"
      }
    },
    {
      "cell_type": "code",
      "source": [
        "# Шаги 1-2:\n",
        "# Определение переменных и функции\n",
        "n = sp.Symbol('n')\n",
        "a_n = 48 / (5 * (n**2 + 7*n + 12))\n",
        "\n",
        "# Вычисление суммы ряда для разных значений N\n",
        "for N in [10, 100, 1000, 10000, 100000]:\n",
        "    S_n = sp.summation(a_n, (n, 1, N))  # сумма первых N членов ряда\n",
        "    print(f\"Сумма ряда S для N = {N}:\")\n",
        "    print(S_n.evalf())  # Вычисление численного значения суммы"
      ],
      "metadata": {
        "colab": {
          "base_uri": "https://localhost:8080/"
        },
        "id": "eQLgpWTYPMkc",
        "outputId": "84b46bf0-b038-4d99-f633-369b5f64528c"
      },
      "execution_count": null,
      "outputs": [
        {
          "output_type": "stream",
          "name": "stdout",
          "text": [
            "Сумма ряда S для N = 10:\n",
            "1.71428571428571\n",
            "Сумма ряда S для N = 100:\n",
            "2.30769230769231\n",
            "Сумма ряда S для N = 1000:\n",
            "2.39043824701195\n",
            "Сумма ряда S для N = 10000:\n",
            "2.39904038384646\n",
            "Сумма ряда S для N = 100000:\n",
            "2.39990400383985\n"
          ]
        }
      ]
    },
    {
      "cell_type": "code",
      "source": [
        "# Нахождение точной суммы ряда\n",
        "# Разложение на простейшие дроби\n",
        "a_n_decomposed = sp.apart(a_n)\n",
        "\n",
        "print(\"Разложение на простейшие дроби:\")\n",
        "print(a_n_decomposed)\n",
        "\n",
        "# Вычисление точной суммы бесконечного ряда\n",
        "S_exact = sp.summation(a_n_decomposed, (n, 1, sp.oo))\n",
        "\n",
        "print(\"Точная сумма ряда:\")\n",
        "print(S_exact.evalf())\n"
      ],
      "metadata": {
        "colab": {
          "base_uri": "https://localhost:8080/"
        },
        "id": "DFFYNl4M3WTn",
        "outputId": "e12ff91a-c47a-4894-fce7-b2e64d22194f"
      },
      "execution_count": null,
      "outputs": [
        {
          "output_type": "stream",
          "name": "stdout",
          "text": [
            "Разложение на простейшие дроби:\n",
            "-48/(5*(n + 4)) + 48/(5*(n + 3))\n",
            "Точная сумма ряда:\n",
            "2.40000000000000\n"
          ]
        }
      ]
    },
    {
      "cell_type": "code",
      "source": [
        "# Вычисление суммы ряда и абсолютной погрешности для различных значений N\n",
        "for N in [10, 100, 1000, 10000, 100000]:\n",
        "    S_n = sp.summation(a_n, (n, 1, N))  # сумма первых N членов ряда\n",
        "    S_n_val = S_n.evalf()  # Вычисление численного значения суммы\n",
        "    error = abs(S_exact - S_n_val)  # Абсолютная погрешность\n",
        "    print(f\"Сумма ряда S для N = {N}: {S_n_val}\")\n",
        "    print(f\"Абсолютная погрешность для N = {N}: {error}\")"
      ],
      "metadata": {
        "colab": {
          "base_uri": "https://localhost:8080/"
        },
        "id": "rU7ohkc8xJ49",
        "outputId": "92fcbb4e-2088-4624-b8cf-7fd9b5620a84"
      },
      "execution_count": null,
      "outputs": [
        {
          "output_type": "stream",
          "name": "stdout",
          "text": [
            "Сумма ряда S для N = 10: 1.71428571428571\n",
            "Абсолютная погрешность для N = 10: 0.685714285714286\n",
            "Сумма ряда S для N = 100: 2.30769230769231\n",
            "Абсолютная погрешность для N = 100: 0.0923076923076924\n",
            "Сумма ряда S для N = 1000: 2.39043824701195\n",
            "Абсолютная погрешность для N = 1000: 0.00956175298804762\n",
            "Сумма ряда S для N = 10000: 2.39904038384646\n",
            "Абсолютная погрешность для N = 10000: 0.000959616153538345\n",
            "Сумма ряда S для N = 100000: 2.39990400383985\n",
            "Абсолютная погрешность для N = 100000: 0.0000959961601534332\n"
          ]
        }
      ]
    },
    {
      "cell_type": "code",
      "source": [
        "print(\"Точная сумма ряда:\")\n",
        "print(S_exact)\n",
        "\n",
        "def count_significant_figures(approx, exact):\n",
        "    approx_str = str(approx)\n",
        "    exact_str = str(exact)\n",
        "    significant_figures = 0\n",
        "\n",
        "    # Consider digits up to the decimal point and after\n",
        "    for a_digit, e_digit in zip(approx_str, exact_str):\n",
        "        if a_digit == e_digit:\n",
        "            significant_figures += 1\n",
        "        else:\n",
        "            break\n",
        "\n",
        "    return significant_figures\n",
        "\n",
        "# Вычисление суммы ряда и абсолютной погрешности для различных значений N\n",
        "for N in [10, 100, 1000, 10000, 100000]:\n",
        "    S_n = sp.summation(a_n, (n, 1, N))  # сумма первых N членов ряда\n",
        "    S_n_val = S_n.evalf()  # Вычисление численного значения суммы\n",
        "    error = abs(S_exact - S_n_val)  # Абсолютная погрешность\n",
        "    significant_figures = count_significant_figures(S_n_val, S_exact)\n",
        "\n",
        "    print(f\"Сумма ряда S для N = {N}: {S_n_val}\")\n",
        "    print(f\"Абсолютная погрешность для N = {N}: {error}\")\n",
        "    print(f\"Количество верных цифр для N = {N}: {significant_figures}\")\n"
      ],
      "metadata": {
        "colab": {
          "base_uri": "https://localhost:8080/"
        },
        "id": "w-likQPaxzqL",
        "outputId": "5ef7f743-da2f-4e1e-dd6b-63f1f3cb3cff"
      },
      "execution_count": null,
      "outputs": [
        {
          "output_type": "stream",
          "name": "stdout",
          "text": [
            "Точная сумма ряда:\n",
            "2.40000000000000\n",
            "Сумма ряда S для N = 10: 1.71428571428571\n",
            "Абсолютная погрешность для N = 10: 0.685714285714286\n",
            "Количество верных цифр для N = 10: 0\n",
            "Сумма ряда S для N = 100: 2.30769230769231\n",
            "Абсолютная погрешность для N = 100: 0.0923076923076924\n",
            "Количество верных цифр для N = 100: 2\n",
            "Сумма ряда S для N = 1000: 2.39043824701195\n",
            "Абсолютная погрешность для N = 1000: 0.00956175298804762\n",
            "Количество верных цифр для N = 1000: 2\n",
            "Сумма ряда S для N = 10000: 2.39904038384646\n",
            "Абсолютная погрешность для N = 10000: 0.000959616153538345\n",
            "Количество верных цифр для N = 10000: 2\n",
            "Сумма ряда S для N = 100000: 2.39990400383985\n",
            "Абсолютная погрешность для N = 100000: 0.0000959961601534332\n",
            "Количество верных цифр для N = 100000: 2\n"
          ]
        }
      ]
    },
    {
      "cell_type": "code",
      "source": [
        "# Списки для хранения данных\n",
        "N_values = [10, 100, 1000, 10000, 100000]\n",
        "errors = []\n",
        "significant_figures_list = []\n",
        "\n",
        "# Вычисление суммы ряда и абсолютной погрешности для различных значений N\n",
        "for N in N_values:\n",
        "    S_n = sp.summation(a_n, (n, 1, N))  # сумма первых N членов ряда\n",
        "    S_n_val = S_n.evalf()  # Вычисление численного значения суммы\n",
        "    error = abs(S_exact - S_n_val)  # Абсолютная погрешность\n",
        "    significant_figures = count_significant_figures(S_n_val, S_exact)\n",
        "\n",
        "    errors.append(error)\n",
        "    significant_figures_list.append(significant_figures)\n",
        "\n",
        "    print(f\"Сумма ряда S для N = {N}: {S_n_val}\")\n",
        "    print(f\"Абсолютная погрешность для N = {N}: {error}\")\n",
        "    print(f\"Количество верных цифр для N = {N}: {significant_figures}\")\n",
        "\n",
        "# Построение гистограммы\n",
        "fig, ax1 = plt.subplots()\n",
        "\n",
        "color = 'tab:blue'\n",
        "ax1.set_xlabel('N')\n",
        "ax1.set_ylabel('Абсолютная погрешность', color=color)\n",
        "ax1.bar([str(N) for N in N_values], errors, color=color, alpha=0.6)\n",
        "ax1.tick_params(axis='y', labelcolor=color)\n",
        "\n",
        "ax2 = ax1.twinx()\n",
        "color = 'tab:red'\n",
        "ax2.set_ylabel('Количество верных цифр', color=color)\n",
        "ax2.plot([str(N) for N in N_values], significant_figures_list, color=color, marker='o')\n",
        "ax2.tick_params(axis='y', labelcolor=color)\n",
        "\n",
        "fig.tight_layout()\n",
        "plt.title('Абсолютная погрешность и количество верных цифр для различных N')\n",
        "plt.show()"
      ],
      "metadata": {
        "colab": {
          "base_uri": "https://localhost:8080/",
          "height": 769
        },
        "id": "Rabd1jhF5tCF",
        "outputId": "521e1741-a10b-44a1-b4f4-6c3434271584"
      },
      "execution_count": null,
      "outputs": [
        {
          "output_type": "stream",
          "name": "stdout",
          "text": [
            "Сумма ряда S для N = 10: 1.71428571428571\n",
            "Абсолютная погрешность для N = 10: 0.685714285714286\n",
            "Количество верных цифр для N = 10: 0\n",
            "Сумма ряда S для N = 100: 2.30769230769231\n",
            "Абсолютная погрешность для N = 100: 0.0923076923076924\n",
            "Количество верных цифр для N = 100: 2\n",
            "Сумма ряда S для N = 1000: 2.39043824701195\n",
            "Абсолютная погрешность для N = 1000: 0.00956175298804762\n",
            "Количество верных цифр для N = 1000: 2\n",
            "Сумма ряда S для N = 10000: 2.39904038384646\n",
            "Абсолютная погрешность для N = 10000: 0.000959616153538345\n",
            "Количество верных цифр для N = 10000: 2\n",
            "Сумма ряда S для N = 100000: 2.39990400383985\n",
            "Абсолютная погрешность для N = 100000: 0.0000959961601534332\n",
            "Количество верных цифр для N = 100000: 2\n"
          ]
        },
        {
          "output_type": "display_data",
          "data": {
            "text/plain": [
              "<Figure size 640x480 with 2 Axes>"
            ],
            "image/png": "[encoded data removed]"
          },
          "metadata": {}
        }
      ]
    },
    {
      "cell_type": "markdown",
      "source": [
        "# Задача 1.5.1"
      ],
      "metadata": {
        "id": "9Oe9eVcnyaFL"
      }
    },
    {
      "cell_type": "code",
      "source": [
        "\n",
        "def quadratic_equation(a, b, c):\n",
        "    discriminant = b**2 - 4*a*c\n",
        "    if discriminant > 0:\n",
        "        x1 = (-b + np.sqrt(discriminant)) / (2*a)\n",
        "        x2 = (-b - np.sqrt(discriminant)) / (2*a)\n",
        "        return x1, x2\n",
        "    elif discriminant == 0:\n",
        "        x = -b / (2*a)\n",
        "        return x, x\n",
        "    else:\n",
        "        return None\n",
        "\n",
        "def error_estimate(a, b, c, delta_b):\n",
        "    delta_x1 = abs((-b + np.sqrt(b**2 - 4*a*c)) / (2*a) - (-b + delta_b + np.sqrt((b + delta_b)**2 - 4*a*c)) / (2*a))\n",
        "    delta_x2 = abs((-b - np.sqrt(b**2 - 4*a*c)) / (2*a) - (-b - delta_b + np.sqrt((b - delta_b)**2 - 4*a*c)) / (2*a))\n",
        "    return delta_x1, delta_x2\n",
        "\n",
        "# Заданные коэффициенты\n",
        "b_star = -39.6\n",
        "c = -716.85\n",
        "\n",
        "# Погрешность коэффициента\n",
        "delta_b = 0.1\n",
        "\n",
        "# Вычисление корней при заданных коэффициентах\n",
        "x1, x2 = quadratic_equation(2, b_star, c)\n",
        "print(\"Корни уравнения при заданных коэффициентах:\")\n",
        "print(\"x1 =\", x1)\n",
        "print(\"x2 =\", x2)\n",
        "\n",
        "# Оценка погрешностей корней\n",
        "delta_x1, delta_x2 = error_estimate(2, b_star, c, delta_b)\n",
        "print(\"\\nОценка погрешностей корней при погрешности коэффициента b на\", delta_b, \":\")\n",
        "print(\"delta_x1 =\", delta_x1)\n",
        "print(\"delta_x2 =\", delta_x2)\n"
      ],
      "metadata": {
        "colab": {
          "base_uri": "https://localhost:8080/"
        },
        "id": "CgIGZq1_yh3N",
        "outputId": "79b12b47-9676-404d-f437-8d12780b0e53"
      },
      "execution_count": 8,
      "outputs": [
        {
          "output_type": "stream",
          "name": "stdout",
          "text": [
            "Корни уравнения при заданных коэффициентах:\n",
            "x1 = 31.264339446844595\n",
            "x2 = -11.464339446844596\n",
            "\n",
            "Оценка погрешностей корней при погрешности коэффициента b на 0.1 :\n",
            "delta_x1 = 0.01342676739565718\n",
            "delta_x2 = 42.71527509888098\n"
          ]
        }
      ]
    },
    {
      "cell_type": "code",
      "source": [
        "# Погрешность коэффициента\n",
        "delta_b = 0.01\n",
        "\n",
        "# Оценка погрешностей корней\n",
        "delta_x1, delta_x2 = error_estimate(2, b_star, c, delta_b)\n",
        "print(\"\\nОценка погрешностей корней при погрешности коэффициента b на\", delta_b, \":\")\n",
        "print(\"delta_x1 =\", delta_x1)\n",
        "print(\"delta_x2 =\", delta_x2)\n"
      ],
      "metadata": {
        "colab": {
          "base_uri": "https://localhost:8080/"
        },
        "id": "NMJnFWEfzUrJ",
        "outputId": "8f03a919-7c55-4683-f0a2-01e809d0e26c"
      },
      "execution_count": 9,
      "outputs": [
        {
          "output_type": "stream",
          "name": "stdout",
          "text": [
            "\n",
            "Оценка погрешностей корней при погрешности коэффициента b на 0.01 :\n",
            "delta_x1 = 0.0013416423565182356\n",
            "delta_x2 = 42.72733748105854\n"
          ]
        }
      ]
    },
    {
      "cell_type": "code",
      "source": [
        "# Погрешность коэффициента\n",
        "delta_b = 0.001\n",
        "\n",
        "# Оценка погрешностей корней\n",
        "delta_x1, delta_x2 = error_estimate(2, b_star, c, delta_b)\n",
        "print(\"\\nОценка погрешностей корней при погрешности коэффициента b на\", delta_b, \":\")\n",
        "print(\"delta_x1 =\", delta_x1)\n",
        "print(\"delta_x2 =\", delta_x2)"
      ],
      "metadata": {
        "colab": {
          "base_uri": "https://localhost:8080/"
        },
        "id": "5TRhDqNjzjc9",
        "outputId": "586197f9-a26b-42af-fcd0-38c05da6ab76"
      },
      "execution_count": 10,
      "outputs": [
        {
          "output_type": "stream",
          "name": "stdout",
          "text": [
            "\n",
            "Оценка погрешностей корней при погрешности коэффициента b на 0.001 :\n",
            "delta_x1 = 0.00013415389737048145\n",
            "delta_x2 = 42.72854474208908\n"
          ]
        }
      ]
    },
    {
      "cell_type": "markdown",
      "source": [
        "# Задача 1.7"
      ],
      "metadata": {
        "id": "Dn76f7mK3S4E"
      }
    },
    {
      "cell_type": "code",
      "source": [
        "\n",
        "# Одинарная точность\n",
        "single_precision_zero = np.float32(0.0)\n",
        "single_precision_inf = np.float32(np.inf)\n",
        "single_precision_epsilon = np.float32(np.finfo(np.float32).eps)\n",
        "\n",
        "# Двойная точность\n",
        "double_precision_zero = np.float64(0.0)\n",
        "double_precision_inf = np.float64(np.inf)\n",
        "double_precision_epsilon = np.float64(np.finfo(np.float64).eps)\n",
        "\n",
        "# Расширенная точность\n",
        "extended_precision_zero = np.float128(0.0)\n",
        "extended_precision_inf = np.float128(np.inf)\n",
        "extended_precision_epsilon = np.float128(np.finfo(np.float128).eps)\n",
        "\n",
        "print(\"Single Precision:\")\n",
        "print(\"Machine Zero:\", single_precision_zero)\n",
        "print(\"Machine Infinity:\", single_precision_inf)\n",
        "print(\"Machine Epsilon:\", single_precision_epsilon)\n",
        "\n",
        "print(\"\\nDouble Precision:\")\n",
        "print(\"Machine Zero:\", double_precision_zero)\n",
        "print(\"Machine Infinity:\", double_precision_inf)\n",
        "print(\"Machine Epsilon:\", double_precision_epsilon)\n",
        "\n",
        "print(\"\\nExtended Precision:\")\n",
        "print(\"Machine Zero:\", extended_precision_zero)\n",
        "print(\"Machine Infinity:\", extended_precision_inf)\n",
        "print(\"Machine Epsilon:\", extended_precision_epsilon)\n"
      ],
      "metadata": {
        "colab": {
          "base_uri": "https://localhost:8080/"
        },
        "id": "_-rIeMIN3YRW",
        "outputId": "c5e68c1d-54bf-4540-b3db-2ba5cf050d5e"
      },
      "execution_count": 11,
      "outputs": [
        {
          "output_type": "stream",
          "name": "stdout",
          "text": [
            "Single Precision:\n",
            "Machine Zero: 0.0\n",
            "Machine Infinity: inf\n",
            "Machine Epsilon: 1.1920929e-07\n",
            "\n",
            "Double Precision:\n",
            "Machine Zero: 0.0\n",
            "Machine Infinity: inf\n",
            "Machine Epsilon: 2.220446049250313e-16\n",
            "\n",
            "Extended Precision:\n",
            "Machine Zero: 0.0\n",
            "Machine Infinity: inf\n",
            "Machine Epsilon: 1.084202172485504434e-19\n"
          ]
        }
      ]
    },
    {
      "cell_type": "markdown",
      "source": [
        "# Задача 1.6"
      ],
      "metadata": {
        "id": "k0LlFXwp3uTp"
      }
    },
    {
      "cell_type": "markdown",
      "source": [
        "## Через Sys"
      ],
      "metadata": {
        "id": "eWxweQ3tqjpp"
      }
    },
    {
      "cell_type": "code",
      "source": [
        "import sys\n",
        "\n",
        "# Поиск машинного нуля, то есть минимальное положительное число\n",
        "# которое может быть представлено в формате с плав. запятой\n",
        "\n",
        "machine_zero = sys.float_info.min\n",
        "print(f\"Machine Zero: {machine_zero}\")\n"
      ],
      "metadata": {
        "id": "Iwc8R8L_3x2J",
        "colab": {
          "base_uri": "https://localhost:8080/"
        },
        "outputId": "ee2a3a7e-555d-4a1a-9f03-e3abdf401dba"
      },
      "execution_count": 12,
      "outputs": [
        {
          "output_type": "stream",
          "name": "stdout",
          "text": [
            "Machine Zero: 2.2250738585072014e-308\n"
          ]
        }
      ]
    },
    {
      "cell_type": "code",
      "source": [
        "# Поиск машинной бесконечности\n",
        "\n",
        "infinity = float('inf')\n",
        "print(f\"Infinity: {infinity}\")\n"
      ],
      "metadata": {
        "colab": {
          "base_uri": "https://localhost:8080/"
        },
        "id": "x8IMdRy5p2zB",
        "outputId": "2242dbec-f72d-46c9-c83e-79fd989ac6af"
      },
      "execution_count": 13,
      "outputs": [
        {
          "output_type": "stream",
          "name": "stdout",
          "text": [
            "Infinity: inf\n"
          ]
        }
      ]
    },
    {
      "cell_type": "code",
      "source": [
        "import sys\n",
        "\n",
        "# Машинный эпсилон — это минимальное положительное число\n",
        "# которое при добавлении к 1.0 дает результат, отличный от 1.0\n",
        "\n",
        "machine_epsilon = sys.float_info.epsilon\n",
        "print(f\"Machine Epsilon: {machine_epsilon}\")\n"
      ],
      "metadata": {
        "colab": {
          "base_uri": "https://localhost:8080/"
        },
        "id": "05m9cbHoqIQ8",
        "outputId": "e3a1a7a8-e8cb-49ab-a577-53a1f498c98d"
      },
      "execution_count": 14,
      "outputs": [
        {
          "output_type": "stream",
          "name": "stdout",
          "text": [
            "Machine Epsilon: 2.220446049250313e-16\n"
          ]
        }
      ]
    },
    {
      "cell_type": "markdown",
      "source": [
        "## Через Numpy"
      ],
      "metadata": {
        "id": "C9Tmb4UEqwfs"
      }
    },
    {
      "cell_type": "code",
      "source": [
        "# Пример нахождения через numpy\n",
        "import numpy as np\n",
        "\n",
        "# Машинный нуль\n",
        "machine_zero_np = np.finfo(float).tiny\n",
        "print(f\"Machine Zero (numpy): {machine_zero_np}\")\n",
        "\n",
        "# Машинная бесконечность\n",
        "infinity_np = np.inf\n",
        "print(f\"Infinity (numpy): {infinity_np}\")\n",
        "\n",
        "# Машинный эпсилон\n",
        "machine_epsilon_np = np.finfo(float).eps\n",
        "print(f\"Machine Epsilon (numpy): {machine_epsilon_np}\")\n"
      ],
      "metadata": {
        "colab": {
          "base_uri": "https://localhost:8080/"
        },
        "id": "urQ-ZtQoqSEa",
        "outputId": "5c1f57e1-c8a2-4d10-a369-fd692d68324a"
      },
      "execution_count": 15,
      "outputs": [
        {
          "output_type": "stream",
          "name": "stdout",
          "text": [
            "Machine Zero (numpy): 2.2250738585072014e-308\n",
            "Infinity (numpy): inf\n",
            "Machine Epsilon (numpy): 2.220446049250313e-16\n"
          ]
        }
      ]
    },
    {
      "cell_type": "markdown",
      "source": [
        "## Собственные функции"
      ],
      "metadata": {
        "id": "LLb8A5k0zyyJ"
      }
    },
    {
      "cell_type": "code",
      "source": [
        "def machine_epsilon_own(dtype=np.float32):\n",
        "    epsilon = dtype(1.0)\n",
        "    while dtype(1.0) + epsilon != dtype(1.0):\n",
        "        last_epsilon = epsilon\n",
        "        epsilon /= dtype(2.0)\n",
        "    return last_epsilon\n",
        "\n",
        "def machine_infinity_own(dtype=np.float32):\n",
        "    infinity = dtype(1.0)\n",
        "    while infinity != np.inf:\n",
        "        last_infinity = infinity\n",
        "        infinity *= dtype(2.0)\n",
        "    return last_infinity\n",
        "\n",
        "def machine_epsilon_extended_own(dtype=np.float64):\n",
        "    epsilon = dtype(1.0)\n",
        "    while dtype(1.0) + epsilon != dtype(1.0):\n",
        "        last_epsilon = epsilon\n",
        "        epsilon /= dtype(2.0)\n",
        "    return last_epsilon\n",
        "\n",
        "print(\"Машинный нуль (32-bit float):\", machine_epsilon_own())\n",
        "print(\"Машинная бесконечность (32-bit float):\", machine_infinity_own())\n",
        "print(\"Машинный нуль (64-bit float):\", machine_epsilon_extended_own())\n"
      ],
      "metadata": {
        "colab": {
          "base_uri": "https://localhost:8080/"
        },
        "id": "_Ez_aNEOz66V",
        "outputId": "64bb9b0b-c46a-4090-da3c-4ab8b1ab3cb1"
      },
      "execution_count": 21,
      "outputs": [
        {
          "output_type": "stream",
          "name": "stdout",
          "text": [
            "Машинный нуль (32-bit float): 1.1920929e-07\n",
            "Машинная бесконечность (32-bit float): 1.7014118e+38\n",
            "Машинный нуль (64-bit float): 2.220446049250313e-16\n"
          ]
        },
        {
          "output_type": "stream",
          "name": "stderr",
          "text": [
            "<ipython-input-21-a7e4c33bffba>:12: RuntimeWarning: overflow encountered in scalar multiply\n",
            "  infinity *= dtype(2.0)\n"
          ]
        }
      ]
    },
    {
      "cell_type": "markdown",
      "source": [
        "## В сравнении"
      ],
      "metadata": {
        "id": "jJYu5qTHq09t"
      }
    },
    {
      "cell_type": "code",
      "source": [
        "# В сравнении\n",
        "\n",
        "# Машинный нуль\n",
        "machine_zero = sys.float_info.min\n",
        "machine_zero_np = np.finfo(float).tiny\n",
        "\n",
        "# Машинная бесконечность\n",
        "infinity = float('inf')\n",
        "infinity_np = np.inf\n",
        "\n",
        "# Машинный эпсилон\n",
        "machine_epsilon = sys.float_info.epsilon\n",
        "machine_epsilon_np = np.finfo(float).eps\n",
        "\n",
        "print(f\"Machine Zero: {machine_zero}\")\n",
        "print(f\"Machine Zero (numpy): {machine_zero_np}\")\n",
        "print(f\"Infinity: {infinity}\")\n",
        "print(f\"Infinity (numpy): {infinity_np}\")\n",
        "print(f\"Machine Epsilon: {machine_epsilon}\")\n",
        "print(f\"Machine Epsilon (numpy): {machine_epsilon_np}\")\n",
        "print(\"Машинный нуль (32-bit float):\", machine_epsilon_own())\n",
        "print(\"Машинная бесконечность (32-bit float):\", machine_infinity_own())\n",
        "print(\"Машинный нуль (64-bit float):\", machine_epsilon_extended_own())\n"
      ],
      "metadata": {
        "colab": {
          "base_uri": "https://localhost:8080/"
        },
        "id": "Fa69baquqcuw",
        "outputId": "5384efb6-d779-45ed-d134-409dd39b50b6"
      },
      "execution_count": 23,
      "outputs": [
        {
          "output_type": "stream",
          "name": "stdout",
          "text": [
            "Machine Zero: 2.2250738585072014e-308\n",
            "Machine Zero (numpy): 2.2250738585072014e-308\n",
            "Infinity: inf\n",
            "Infinity (numpy): inf\n",
            "Machine Epsilon: 2.220446049250313e-16\n",
            "Machine Epsilon (numpy): 2.220446049250313e-16\n",
            "Машинный нуль (32-bit float): 1.1920929e-07\n",
            "Машинная бесконечность (32-bit float): 1.7014118e+38\n",
            "Машинный нуль (64-bit float): 2.220446049250313e-16\n"
          ]
        },
        {
          "output_type": "stream",
          "name": "stderr",
          "text": [
            "<ipython-input-21-a7e4c33bffba>:12: RuntimeWarning: overflow encountered in scalar multiply\n",
            "  infinity *= dtype(2.0)\n"
          ]
        }
      ]
    },
    {
      "cell_type": "markdown",
      "source": [
        "# Задача 1.10.4"
      ],
      "metadata": {
        "id": "Cv4-k5hT4RhF"
      }
    },
    {
      "cell_type": "code",
      "source": [
        "import numpy as np\n",
        "\n",
        "# Заданные векторы\n",
        "a1 = np.array([9, 17, 1])\n",
        "a2 = np.array([27, 35, -18])\n",
        "a3 = np.array([6, 14, 4])\n",
        "\n",
        "# Функция для определения компланарности векторов\n",
        "def are_coplanar(vectors, threshold=0):\n",
        "    matrix = np.vstack(vectors).T\n",
        "    det = np.linalg.det(matrix)\n",
        "    return abs(det) < threshold\n",
        "\n",
        "# Проверка компланарности векторов с точными координатами\n",
        "exact_coplanar = are_coplanar([a1, a2, a3])\n",
        "print(\"Точные координаты:\")\n",
        "print(\"Векторы компланарны?\" , exact_coplanar)\n",
        "\n",
        "# Функция для проверки с приближёнными координатами\n",
        "def check_with_error(vectors, error_percent):\n",
        "    threshold = np.linalg.norm(vectors[0]) * error_percent / 100\n",
        "    return are_coplanar(vectors, threshold)\n",
        "\n",
        "# Проверка с приближёнными координатами\n",
        "alpha = 0.5\n",
        "beta = -0.1\n",
        "alpha_error = 0.5  # альфа = 0.5%\n",
        "beta_error = 0.1  # бета = -0.1%\n",
        "\n",
        "approximate_coplanar_alpha = check_with_error([a1, a2, a3], alpha_error)\n",
        "approximate_coplanar_beta = check_with_error([a1, a2, a3], beta_error)\n",
        "\n",
        "print(\"\\nКоординаты с погрешностью α = 0.5%:\")\n",
        "print(\"Векторы компланарны?\" , approximate_coplanar_alpha)\n",
        "\n",
        "print(\"\\nКоординаты с погрешностью β = -0.1%:\")\n",
        "print(\"Векторы компланарны?\" , approximate_coplanar_beta)\n"
      ],
      "metadata": {
        "colab": {
          "base_uri": "https://localhost:8080/"
        },
        "id": "PdZHPB5KA0pN",
        "outputId": "b0bd4ecf-f8fa-497c-ada1-b564d3962510"
      },
      "execution_count": null,
      "outputs": [
        {
          "output_type": "stream",
          "name": "stdout",
          "text": [
            "Точные координаты:\n",
            "Векторы компланарны? False\n",
            "\n",
            "Координаты с погрешностью α = 0.5%:\n",
            "Векторы компланарны? False\n",
            "\n",
            "Координаты с погрешностью β = -0.1%:\n",
            "Векторы компланарны? False\n"
          ]
        }
      ]
    }
  ]
}