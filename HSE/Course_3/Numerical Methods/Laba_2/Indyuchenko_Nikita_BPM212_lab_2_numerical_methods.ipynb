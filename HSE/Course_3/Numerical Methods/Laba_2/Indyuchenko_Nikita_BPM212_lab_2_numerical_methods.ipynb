{
  "nbformat": 4,
  "nbformat_minor": 0,
  "metadata": {
    "colab": {
      "provenance": []
    },
    "kernelspec": {
      "name": "python3",
      "display_name": "Python 3"
    },
    "language_info": {
      "name": "python"
    }
  },
  "cells": [
    {
      "cell_type": "markdown",
      "source": [
        "**Вариант 4**"
      ],
      "metadata": {
        "id": "I10MYSOe861o"
      }
    },
    {
      "cell_type": "markdown",
      "source": [
        "**Необходимые библиотеки**"
      ],
      "metadata": {
        "id": "adoo0gTO9NOt"
      }
    },
    {
      "cell_type": "code",
      "execution_count": null,
      "metadata": {
        "id": "ao5qTs9i65Rb"
      },
      "outputs": [],
      "source": [
        "import numpy as np\n",
        "import seaborn as sns\n",
        "import matplotlib.pyplot as plt"
      ]
    },
    {
      "cell_type": "markdown",
      "source": [
        "**Задание 3.1.4**"
      ],
      "metadata": {
        "id": "sG7rzD5-94jB"
      }
    },
    {
      "cell_type": "code",
      "source": [
        "N = 4 # номер варианта\n",
        "n = 7 # коэф\n",
        "\n",
        "\n",
        "\n",
        "b = np.full(n, N, dtype=float) # вектор b\n",
        "A = np.zeros((n, n)) # нулевая матрица\n",
        "\n",
        "'''\n",
        "Заполним коэф матрицы А\n",
        "'''\n",
        "\n",
        "for i in range(n):\n",
        "  for j in range(n):\n",
        "    с = 0.1 * N * (i + 1) * (j + 1)\n",
        "    a = 55 / (с**2 +3*с+100)\n",
        "    A[i][j] = a"
      ],
      "metadata": {
        "id": "9yAF5tsd-NcX"
      },
      "execution_count": null,
      "outputs": []
    },
    {
      "cell_type": "code",
      "source": [
        "x = np.linalg.solve(A, b) # решим систему лин. уравнений\n",
        "x # найденный x-вектор"
      ],
      "metadata": {
        "colab": {
          "base_uri": "https://localhost:8080/"
        },
        "id": "P3fNcpAn-2aa",
        "outputId": "37bd830c-72ac-4406-c5ea-afc7b6a9cef8"
      },
      "execution_count": null,
      "outputs": [
        {
          "output_type": "execute_result",
          "data": {
            "text/plain": [
              "array([ 21.42617103, -36.01188314,  49.15018933, -49.51391554,\n",
              "        32.05364783, -11.09060325,   1.26654193])"
            ]
          },
          "metadata": {},
          "execution_count": 3
        }
      ]
    },
    {
      "cell_type": "code",
      "source": [
        "np.linalg.cond(A)"
      ],
      "metadata": {
        "colab": {
          "base_uri": "https://localhost:8080/"
        },
        "id": "zCXXI7Ev-6pi",
        "outputId": "bbe4b22c-e637-479a-e6be-b8204d71715a"
      },
      "execution_count": null,
      "outputs": [
        {
          "output_type": "execute_result",
          "data": {
            "text/plain": [
              "4333277.062952723"
            ]
          },
          "metadata": {},
          "execution_count": 4
        }
      ]
    },
    {
      "cell_type": "code",
      "source": [
        "delta = 0.001 # погрешность\n",
        "d = np.zeros(n) # создаёт нулевой вектор размерности n\n",
        "for k in range(n):\n",
        "  bi = np.copy(b) # копируем вектор\n",
        "  bi[k] += delta\n",
        "\n",
        "  xi = np.linalg.solve(A, bi) # решаем систему с изменённым вектором b\n",
        "\n",
        "  #представление (положительной) бесконечности с плавающей запятой - np.inf\n",
        "\n",
        "  di = np.linalg.norm(x - xi, np.inf) / np.linalg.norm(x, np.inf)\n",
        "  d[k] = di\n",
        "d"
      ],
      "metadata": {
        "colab": {
          "base_uri": "https://localhost:8080/"
        },
        "id": "k2u4mNlQ--XT",
        "outputId": "dee6230c-8373-47c3-faad-c570613a3437"
      },
      "execution_count": null,
      "outputs": [
        {
          "output_type": "execute_result",
          "data": {
            "text/plain": [
              "array([ 0.52699638,  2.81031462,  7.44585892, 11.97334131, 11.97334131,\n",
              "        6.71480863,  1.59357141])"
            ]
          },
          "metadata": {},
          "execution_count": 10
        }
      ]
    },
    {
      "cell_type": "code",
      "source": [
        "# пункт 5. Оценка между дельта погрешностью и со значением d погрешности\n",
        "\n",
        "print(f\"δ(x^m) <= cond(A) · δ(b^m)\")\n",
        "for m in range(n):\n",
        "  print(f\"{d[m]} <= {np.linalg.cond(A) * delta / np.linalg.norm(b, np.inf)} \")"
      ],
      "metadata": {
        "colab": {
          "base_uri": "https://localhost:8080/"
        },
        "id": "vkhz2y2j_kC9",
        "outputId": "c4fd39ac-81c5-44f6-b5aa-8b30fa33c5af"
      },
      "execution_count": null,
      "outputs": [
        {
          "output_type": "stream",
          "name": "stdout",
          "text": [
            "δ(x^m) <= cond(A) · δ(b^m)\n",
            "0.5269963758139323 <= 1083.3192657381808 \n",
            "2.810314615518679 <= 1083.3192657381808 \n",
            "7.445858923813933 <= 1083.3192657381808 \n",
            "11.973341313702303 <= 1083.3192657381808 \n",
            "11.973341313684882 <= 1083.3192657381808 \n",
            "6.714808634706409 <= 1083.3192657381808 \n",
            "1.5935714121103537 <= 1083.3192657381808 \n"
          ]
        }
      ]
    },
    {
      "cell_type": "markdown",
      "source": [
        "**Задание 3.2**"
      ],
      "metadata": {
        "id": "s_ayNPBM9ZcA"
      }
    },
    {
      "cell_type": "code",
      "source": [
        "'''\n",
        "\n",
        "исследовать зависимость погрешности решения\n",
        "системы от погрешностей коэффициентов матрицы A\n",
        "\n",
        "'''\n",
        "\n",
        "\n",
        "d = np.zeros((n,n))\n",
        "for i in range(n):\n",
        "  for j in range(n):\n",
        "    Aij = A.copy()\n",
        "    Aij[i][j] += delta\n",
        "    xij = np.linalg.solve(Aij, b)\n",
        "    dij = np.linalg.norm(xij - x, np.inf) / np.linalg.norm(x, np.inf)\n",
        "    d[i][j] = dij\n",
        "print(d)"
      ],
      "metadata": {
        "id": "I-m1FvtT9lLf",
        "colab": {
          "base_uri": "https://localhost:8080/"
        },
        "outputId": "cc396f35-bba2-4db2-af91-250586634f9d"
      },
      "execution_count": null,
      "outputs": [
        {
          "output_type": "stream",
          "name": "stdout",
          "text": [
            "[[ 6.81957461  6.51291439  1.99042875  1.20208476  0.6234728   0.37540538\n",
            "   0.12286096]\n",
            " [20.66433426  4.22521918  2.04152443  1.09858524  0.65205243  0.36304933\n",
            "   0.17151677]\n",
            " [12.25951201  3.96310044  1.83723675  1.06256019  0.64561527  0.38572316\n",
            "   0.1751341 ]\n",
            " [11.81843904  3.40418178  1.69610223  1.0129396   0.64846026  0.39820374\n",
            "   0.19465941]\n",
            " [ 9.46874343  3.12112606  1.5919231   1.00168963  0.66173214  0.42362777\n",
            "   0.2056974 ]\n",
            " [ 9.24093482  2.81666373  1.54157471  0.99700129  0.6866335   0.44428852\n",
            "   0.23092492]\n",
            " [ 6.28496416  2.76534581  1.45456475  1.01283632  0.69285582  0.47989286\n",
            "   0.21286861]]\n"
          ]
        }
      ]
    },
    {
      "cell_type": "code",
      "source": [
        "fig, ax = plt.subplots(figsize=(8, 8))\n",
        "ax.bar([f\"({i // n + 1}, {i % n + 1})\" for i in range(n*n)], d.flatten())\n",
        "plt.xticks(rotation=90)\n",
        "plt.xlabel(\"$(i, j)$ компонента матрциы A\")\n",
        "plt.ylabel(\"Относителньая погрешность решения\")\n",
        "fig.show()"
      ],
      "metadata": {
        "colab": {
          "base_uri": "https://localhost:8080/",
          "height": 723
        },
        "id": "n5eCdbOUGtux",
        "outputId": "b2e1b09b-5f7d-4a0d-8c2f-2cb007df755d"
      },
      "execution_count": null,
      "outputs": [
        {
          "output_type": "display_data",
          "data": {
            "text/plain": [
              "<Figure size 800x800 with 1 Axes>"
            ],
            "image/png": "[encoded data removed]"
          },
          "metadata": {}
        }
      ]
    },
    {
      "cell_type": "code",
      "source": [
        "print(\"δ(x*) <= cond(A) · δ(A*)\")\n",
        "print(f\"{d.max()} <= {np.linalg.cond(A) * delta / np.linalg.norm(A, np.inf)} \")"
      ],
      "metadata": {
        "colab": {
          "base_uri": "https://localhost:8080/"
        },
        "id": "pabb0DdrG3x9",
        "outputId": "a15fea63-2c1e-4966-83f5-7687b801fdde"
      },
      "execution_count": null,
      "outputs": [
        {
          "output_type": "stream",
          "name": "stdout",
          "text": [
            "δ(x*) <= cond(A) · δ(A*)\n",
            "20.664334263317052 <= 1213.0026568686974 \n"
          ]
        }
      ]
    },
    {
      "cell_type": "markdown",
      "source": [
        "**Задание 3.7**"
      ],
      "metadata": {
        "id": "fa7JW1wJG636"
      }
    },
    {
      "cell_type": "code",
      "source": [
        "# LU-разложение\n",
        "def lu_decomposition(A):\n",
        "    n = len(A)\n",
        "    L = np.zeros((n, n))\n",
        "    U = np.zeros((n, n))\n",
        "\n",
        "    for j in range(n):\n",
        "        L[j, j] = 1\n",
        "        for i in range(j + 1):\n",
        "            U[i, j] = A[i, j] - sum(U[k, j] * L[i, k] for k in range(i))\n",
        "        for i in range(j, n):\n",
        "            L[i, j] = (A[i, j] - sum(U[k, j] * L[i, k] for k in range(j))) / U[j, j]\n",
        "\n",
        "    return L, U\n",
        "\n",
        "# нахождение обратной матрицы\n",
        "def inverse_matrix(A):\n",
        "    L, U = lu_decomposition(A)\n",
        "    n = len(A)\n",
        "    inv_A = np.zeros((n, n))\n",
        "\n",
        "    for i in range(n):\n",
        "        b = np.zeros(n)\n",
        "        b[i] = 1\n",
        "        y = np.linalg.solve(L, b)\n",
        "        x = np.linalg.solve(U, y)\n",
        "        inv_A[:, i] = x\n",
        "\n",
        "    return inv_A\n",
        "\n",
        "\n",
        "def condition_number(A):\n",
        "    inv_A = inverse_matrix(A)\n",
        "    norm_A = np.linalg.norm(A)\n",
        "    norm_inv_A = np.linalg.norm(inv_A)\n",
        "    cond_A = norm_A * norm_inv_A\n",
        "    return cond_A"
      ],
      "metadata": {
        "id": "07l95nauHCep"
      },
      "execution_count": null,
      "outputs": []
    },
    {
      "cell_type": "code",
      "source": [
        "# Задаем максимальный порядок матрицы\n",
        "k = 7\n",
        "orders = list(range(1, k+1))\n",
        "cond_numbers = [] # Матрицы для хранения чисел обусловленности\n",
        "n_values = range(1, k)\n",
        "\n",
        "\n",
        "\n",
        "for n in orders:\n",
        "    A_tmp = np.copy(A[:n,:n]) # порядок матрицы\n",
        "    cond_A = condition_number(A_tmp)\n",
        "    cond_numbers.append(cond_A)"
      ],
      "metadata": {
        "id": "ZaDCkrg3HYu1"
      },
      "execution_count": null,
      "outputs": []
    },
    {
      "cell_type": "code",
      "source": [
        "# Построение графика\n",
        "plt.plot(orders, cond_numbers, marker='o')\n",
        "plt.xlabel('Порядок матрицы')\n",
        "plt.ylabel('Число обусловленности')\n",
        "plt.title('Зависимость числа обусловленности от порядка матрицы')\n",
        "plt.grid(True)\n",
        "plt.show()"
      ],
      "metadata": {
        "id": "QSxC1lgRIEUZ",
        "colab": {
          "base_uri": "https://localhost:8080/",
          "height": 487
        },
        "outputId": "fe37c86b-6ced-45a6-b8f2-26c141e08fbd"
      },
      "execution_count": null,
      "outputs": [
        {
          "output_type": "display_data",
          "data": {
            "text/plain": [
              "<Figure size 640x480 with 1 Axes>"
            ],
            "image/png": "[encoded data removed]"
          },
          "metadata": {}
        }
      ]
    }
  ]
}